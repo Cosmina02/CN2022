{
 "cells": [
  {
   "cell_type": "markdown",
   "id": "placed-floating",
   "metadata": {},
   "source": [
    "# Tema 3\n",
    "\n",
    "**Topics:**\n",
    "* stocarea matricelor *rare*\n",
    "* operatii elementare cu matrici *rare*"
   ]
  },
  {
   "cell_type": "code",
   "execution_count": 1,
   "id": "00585ca7",
   "metadata": {},
   "outputs": [],
   "source": [
    "import numpy as np\n",
    "import random\n",
    "\n",
    "# to be implemented\n",
    "from tema3 import RareMatrix\n",
    "\n",
    "random.seed(1)\n",
    "np.random.seed(1)"
   ]
  },
  {
   "cell_type": "code",
   "execution_count": 2,
   "id": "34dc9deb",
   "metadata": {},
   "outputs": [
    {
     "data": {
      "text/plain": [
       "array([[ 0.,  0., 15.,  0.,  0.],\n",
       "       [ 0.,  0.,  0.,  0., 97.],\n",
       "       [ 0.,  0.,  0.,  0.,  0.],\n",
       "       [ 0.,  0.,  0.,  0.,  0.],\n",
       "       [ 0.,  0.,  0.,  0.,  0.]])"
      ]
     },
     "execution_count": 2,
     "metadata": {},
     "output_type": "execute_result"
    }
   ],
   "source": [
    "# Let's generate a random rare matrix\n",
    "n = 5\n",
    "\n",
    "def generate_random_rare_matrix(n, approx_density=0.1):\n",
    "    m = np.zeros((n, n))\n",
    "    for i in range(int(n*n*approx_density)):\n",
    "        line = random.randint(0, n - 1)\n",
    "        column = random.randint(0, n - 1)\n",
    "        value = random.randint(0, 100) # let's hardcode the max value \n",
    "        \n",
    "        m[line, column] = value\n",
    "    \n",
    "    return m\n",
    "\n",
    "generate_random_rare_matrix(n, approx_density=0.1)"
   ]
  },
  {
   "cell_type": "code",
   "execution_count": 3,
   "id": "17553229",
   "metadata": {},
   "outputs": [
    {
     "data": {
      "text/plain": [
       "array([[0.        , 0.33739616, 0.        , 0.        , 0.        ],\n",
       "       [0.        , 0.        , 0.14035078, 0.95715516, 0.        ],\n",
       "       [0.64817187, 0.        , 0.        , 0.        , 0.87008726],\n",
       "       [0.        , 0.        , 0.        , 0.        , 0.        ],\n",
       "       [0.        , 0.        , 0.        , 0.36824154, 0.        ]])"
      ]
     },
     "execution_count": 3,
     "metadata": {},
     "output_type": "execute_result"
    }
   ],
   "source": [
    "# Let's use a pre-defined function for the same task\n",
    "import scipy.sparse as sparse\n",
    "\n",
    "sparse.random(n, n, random_state=0, density=0.25).A"
   ]
  },
  {
   "cell_type": "code",
   "execution_count": 4,
   "id": "edb2b71d",
   "metadata": {},
   "outputs": [
    {
     "data": {
      "text/plain": [
       "array([[ 0.,  0.,  0.,  0.,  0.,  2.,  0., 34., 28.,  0.],\n",
       "       [ 0.,  0.,  0.,  0.,  0.,  0.,  0.,  0.,  0.,  0.],\n",
       "       [ 0.,  0.,  0.,  0.,  0.,  0.,  0.,  0.,  0.,  0.],\n",
       "       [ 0.,  0.,  0.,  0.,  0.,  0., 54.,  0.,  0., 13.],\n",
       "       [ 0.,  0.,  0.,  0.,  0.,  0.,  0.,  0.,  0.,  0.],\n",
       "       [ 2.,  0.,  0.,  0.,  0.,  0.,  0.,  0.,  0.,  0.],\n",
       "       [ 0.,  0.,  0., 54.,  0.,  0.,  0.,  0.,  0., 97.],\n",
       "       [34.,  0.,  0.,  0.,  0.,  0.,  0., 60.,  0.,  0.],\n",
       "       [28.,  0.,  0.,  0.,  0.,  0.,  0.,  0.,  0.,  0.],\n",
       "       [ 0.,  0.,  0., 13.,  0.,  0., 97.,  0.,  0.,  0.]])"
      ]
     },
     "execution_count": 4,
     "metadata": {},
     "output_type": "execute_result"
    }
   ],
   "source": [
    "# Let's generate a random symmetric rare matrix\n",
    "n = 10\n",
    "\n",
    "def generate_symmetric_random_rare_matrix(n, approx_density=0.1):\n",
    "    m = np.zeros((n, n))\n",
    "    for i in range(int(n*n*approx_density / 2)):\n",
    "        line = random.randint(0, n - 1)\n",
    "        column = random.randint(0, n - 1)\n",
    "        value = random.randint(0, 100) # let's hardcode the max value \n",
    "        \n",
    "        m[line, column] = value\n",
    "        m[column, line] = value \n",
    "        \n",
    "    return m\n",
    "\n",
    "generate_symmetric_random_rare_matrix(n, approx_density=0.2)"
   ]
  },
  {
   "cell_type": "markdown",
   "id": "f53e39bd",
   "metadata": {},
   "source": [
    "Alte tipuri de matrice rare: https://en.wikipedia.org/wiki/Sparse_matrix"
   ]
  },
  {
   "cell_type": "markdown",
   "id": "347d3abd",
   "metadata": {},
   "source": [
    "### Memorarea matricelor rare şi simetrice (schema de memorare economică)\n",
    "Un vector 'rar' este un vector cu 'puține' elemente nenule. Un asemenea vector se memorează eficient într-o structură care va reține doar valorile nenule și poziția în vector a respectivei valori:\n",
    "$$\n",
    "\\left\\{(v a l \\neq 0, i) ; x_{i}=v a l\\right\\} .\n",
    "$$\n",
    "$\\mathrm{O}$ matrice rară poate fi memorată economic ca un vector de vectori memorați rar - fiecare linie a matricei se memorează într-un vector rar.\n",
    "În cazul matricelor simetrice se vor memora pentru fiecare linie elementele nenule din partea inferior triunghiulară a matricei.\n",
    "Pentru linia $\\boldsymbol{i}$, se vor memora elementele nenule din partea inferior triunghiulară a matricei $\\boldsymbol{A}$ :\n",
    "$$\n",
    "\\left\\{(v a l \\neq 0, j) ; a_{i j}=v a l, j \\leq i\\right\\}\n",
    "$$"
   ]
  },
  {
   "cell_type": "markdown",
   "id": "be0412da",
   "metadata": {},
   "source": [
    "#### Exemplu:\n",
    "\n",
    "Matricea:\n",
    "$$\n",
    "A=\\left(\\begin{array}{ccccc}\n",
    "102.5 & 0.0 & 2.5 & 0.0 & 0.73 \\\\\n",
    "0.0 & 104.88 & 1.05 & 0.0 & 0.33 \\\\\n",
    "2.5 & 1.05 & 100.0 & 0.0 & 0.0 \\\\\n",
    "0.0 & 0.0 & 0.0 & 101.3 & 1.5 \\\\\n",
    "0.73 & 0.33 & 0.0 & 1.5 & 102.23\n",
    "\\end{array}\\right)\n",
    "$$\n",
    "se poate memora economic astfel:\n",
    "$$\n",
    "\\begin{aligned}\n",
    "&\\{\\{(102.5,0)\\}, / / \\text { linia } 0 \\\\\n",
    "&\\{(104.88,1)\\}, / / \\text { linia } 1 \\\\\n",
    "&\\{(2.5,0),(1.05,1),(100.0,2)\\}, / / \\text { linia } 2 \\\\\n",
    "&\\{(101.3,3)\\}, / / \\text { linia } 3 \\\\\n",
    "&\\{(1.5,3),(0.73,0),(102.23,4),(0.33,1)\\}\\} . / / \\text { linia } 4\n",
    "\\end{aligned}\n",
    "$$"
   ]
  },
  {
   "cell_type": "markdown",
   "id": "202171fd",
   "metadata": {},
   "source": [
    "### Ok, acum enuntul temei\n",
    "În fișierele **a.txt**, **b.txt**, **a plus b.txt**, **a ori_a.txt** postate pe pagina laboratorului, sunt memorate, pentru 4 matrice rare (cu 'putine' elemente $a_{i j}$ $\\neq 0)$ şi simetrice, următoarele elemente:\n",
    "- $\\boldsymbol{n}$ dimensiunea datelor,\n",
    "- $a_{i j} \\neq 0, i, j$ cu $j \\leq i$ - elementele nenule din partea inferior triunghiulară a matricei rare şi simetrice $A \\in \\mathbb{R}^{n \\times n}$, indicii de linie și indicii de coloană ai respectivelor elemente.\n",
    "\n",
    "Folosind fișierele atașate, să se citească dimensiunea matricelor și să se genereze structurile de date necesare pentru memorarea economică a matricei rare și simetrice(schema economică de memorare este descrisă mai jos). Se presupune că elementele nenule ale matricei sunt plasate aleator în fișier (nu sunt ordonate după indicii de linie sau de coloană, sau altfel). Verificați că elementele din fișierele postate respectă regula $\\boldsymbol{j} \\leq \\boldsymbol{i}$.\n",
    "\n",
    "Fie $\\boldsymbol{A}, \\boldsymbol{B} \\in \\mathbb{R}^{n \\times n}$ două matrice rare şi simetrice cu elemente reale. Folosind schema de memorare rară prezentată mai jos, să se calculeze:\n",
    "- $\\boldsymbol{A}+\\boldsymbol{B}$ suma matricelor,\n",
    "- $A^{2}=A^{*} A$ produsul matricei $A$ cu ea însăși.\n",
    "Să se verifice că suma/produsul matricelor din fișierele a.txt și b.txt este matricea din fișierul a plus_b.txt/a_ori_a.txt. Două elemente care au aceiași indici de linie și coloană $(\\boldsymbol{i}, \\boldsymbol{j})$ sunt considerate egale dacă $\\left|\\boldsymbol{c}_{i j}-\\boldsymbol{d}_{i j}\\right|<\\varepsilon$. Considerați $\\varepsilon$ dată de intrare în program (de exemplu, $\\varepsilon=10^{-6}$ )."
   ]
  },
  {
   "cell_type": "markdown",
   "id": "74ffad97",
   "metadata": {},
   "source": [
    "#### Observatii\n",
    "\n",
    "1. La rezolvarea problemelor de mai sus să nu se recurgă la alocarea de matrice clasice și nici să nu se folosească o funcție val(i,j) care returnează pentru orice $(\\boldsymbol{i}, \\boldsymbol{j})$ valoarea elementului corespunzător din matrice. \n",
    "\n",
    "2. În cazul înmulțirii matricelor, gradul de umplere al matricei (numărul de elemente nenule din matrice) nu poate fi precizat dinainte. Este posibil ca matricea rezultat să fie ,plină”. Chiar dacă matricea este ,plină”, folosiţi schema de memorare rară pentru memorarea matricei produs.\n",
    "\n",
    "3. Implementarea schemei de memorare rară descrisă în acest fișier este obligatorie (neimplementarea ei se penalizează). Cei care aleg o altă schemă de memorare a matricelor rare trebuie să prezinte suplimentar un fișier documentație care să explice schema folosită și să prezinte un exemplu (cel mult $5 \\times 5$, se poate folosi exemplul din temă) care să precizeze conținutul structurilor de date utilizate pentru memorarea matricei rare.\n",
    "\n",
    "4. Dacă în fișierele atașate apar mai multe valori cu aceiași indici de linie și coloană:\n",
    "$$\n",
    "\\begin{aligned}\n",
    "&v a l_{1}, i, j \\\\\n",
    "&\\ldots \\\\\n",
    "&v a l_{2}, i, j \\\\\n",
    "&\\ldots \\\\\n",
    "&v a l_{k}, i, j\n",
    "\\end{aligned}\n",
    "$$\n",
    "o astfel de situație are următoarea semnificație:\n",
    "$$\n",
    "a_{i j}=v a l_{1}+v a l_{2}+\\cdots+v a l_{k} .\n",
    "$$"
   ]
  },
  {
   "cell_type": "code",
   "execution_count": 5,
   "id": "a38fd5e0",
   "metadata": {},
   "outputs": [],
   "source": [
    "# Let's read the files\n",
    "\n",
    "urls = {\n",
    "    \"a\": \"https://profs.info.uaic.ro/~ancai/CN/lab/3/a.txt\",\n",
    "    \"b\": \"https://profs.info.uaic.ro/~ancai/CN/lab/3/b.txt\",\n",
    "    \"a_plus_b\": \"https://profs.info.uaic.ro/~ancai/CN/lab/3/a_plus_b.txt\",\n",
    "    \"a_ori_a\": \"https://profs.info.uaic.ro/~ancai/CN/lab/3/a_ori_a.txt\"\n",
    "}\n",
    "\n",
    "a = RareMatrix.from_url(urls[\"a\"])\n",
    "b = RareMatrix.from_url(urls[\"b\"])\n",
    "a_plus_b = RareMatrix.from_url(urls[\"a_plus_b\"])\n",
    "a_ori_a = RareMatrix.from_url(urls[\"a_ori_a\"])"
   ]
  },
  {
   "cell_type": "markdown",
   "id": "0567c993",
   "metadata": {},
   "source": [
    "Exemplu de stocare a valorilor rare."
   ]
  },
  {
   "cell_type": "code",
   "execution_count": 6,
   "id": "165466bc",
   "metadata": {},
   "outputs": [
    {
     "data": {
      "text/plain": [
       "({0: 506.5},\n",
       " {18: 8.0,\n",
       "  28: 19.0,\n",
       "  36: 13.5,\n",
       "  100: 481.5,\n",
       "  17: 5.0,\n",
       "  41: 19.0,\n",
       "  57: 15.0,\n",
       "  71: 21.0,\n",
       "  77: 21.5,\n",
       "  79: 20.0,\n",
       "  89: 14.5},\n",
       " {684: 18.5, 1000: 213.5, 155: 2.0, 365: 21.5, 873: 16.5})"
      ]
     },
     "execution_count": 6,
     "metadata": {},
     "output_type": "execute_result"
    }
   ],
   "source": [
    "# print sparse representation of lines 0, 100, 1000\n",
    "a.rare_values[0], a.rare_values[100], a.rare_values[1000]"
   ]
  },
  {
   "cell_type": "code",
   "execution_count": 7,
   "id": "aa9b1505",
   "metadata": {},
   "outputs": [
    {
     "data": {
      "text/plain": [
       "({0: 524.0},\n",
       " {10: 30.0,\n",
       "  14: 4.0,\n",
       "  22: 10.0,\n",
       "  40: 24.5,\n",
       "  100: 430.5,\n",
       "  9: 15.5,\n",
       "  77: 15.0,\n",
       "  79: 25.5},\n",
       " {378: 4.0, 388: 17.5, 1000: 185.5})"
      ]
     },
     "execution_count": 7,
     "metadata": {},
     "output_type": "execute_result"
    }
   ],
   "source": [
    "# print sparse representation of lines 0, 100, 1000\n",
    "b.rare_values[0], b.rare_values[100], b.rare_values[1000]"
   ]
  },
  {
   "cell_type": "markdown",
   "id": "91bcba41",
   "metadata": {},
   "source": [
    "#### Adunarea matricelor rare"
   ]
  },
  {
   "cell_type": "code",
   "execution_count": 8,
   "id": "77009a16",
   "metadata": {},
   "outputs": [],
   "source": [
    "# you'll need to override the \"+\" operator\n",
    "my_a_plus_b = a + b"
   ]
  },
  {
   "cell_type": "code",
   "execution_count": 9,
   "id": "207ccc57",
   "metadata": {},
   "outputs": [
    {
     "data": {
      "text/plain": [
       "({18: 8.0,\n",
       "  28: 19.0,\n",
       "  36: 13.5,\n",
       "  100: 912.0,\n",
       "  17: 5.0,\n",
       "  41: 19.0,\n",
       "  57: 15.0,\n",
       "  71: 21.0,\n",
       "  77: 36.5,\n",
       "  79: 45.5,\n",
       "  89: 14.5,\n",
       "  10: 30.0,\n",
       "  14: 4.0,\n",
       "  22: 10.0,\n",
       "  40: 24.5,\n",
       "  9: 15.5},\n",
       " {10: 30.0,\n",
       "  14: 4.0,\n",
       "  18: 8.0,\n",
       "  22: 10.0,\n",
       "  28: 19.0,\n",
       "  36: 13.5,\n",
       "  40: 24.5,\n",
       "  100: 912.0,\n",
       "  9: 15.5,\n",
       "  17: 5.0,\n",
       "  41: 19.0,\n",
       "  57: 15.0,\n",
       "  71: 21.0,\n",
       "  77: 36.5,\n",
       "  79: 45.5,\n",
       "  89: 14.5})"
      ]
     },
     "execution_count": 9,
     "metadata": {},
     "output_type": "execute_result"
    }
   ],
   "source": [
    "my_a_plus_b.rare_values[100], a_plus_b.rare_values[100]"
   ]
  },
  {
   "cell_type": "code",
   "execution_count": 10,
   "id": "0688b342",
   "metadata": {},
   "outputs": [
    {
     "data": {
      "text/plain": [
       "True"
      ]
     },
     "execution_count": 10,
     "metadata": {},
     "output_type": "execute_result"
    }
   ],
   "source": [
    "# you'll need to override the \"==\" operator\n",
    "my_a_plus_b == a_plus_b"
   ]
  },
  {
   "cell_type": "markdown",
   "id": "c4eb6a21",
   "metadata": {},
   "source": [
    "#### Ridicarea la putere a matricelor (sau inmultirea matricelor)"
   ]
  },
  {
   "cell_type": "code",
   "execution_count": 11,
   "id": "822be85c",
   "metadata": {},
   "outputs": [
    {
     "name": "stdout",
     "output_type": "stream",
     "text": [
      "CPU times: user 5min, sys: 806 ms, total: 5min\n",
      "Wall time: 5min 1s\n"
     ]
    }
   ],
   "source": [
    "%%time\n",
    "# you'll need to override the \"**\" operator\n",
    "my_a_ori_a = a ** 2"
   ]
  },
  {
   "cell_type": "code",
   "execution_count": 14,
   "id": "885f75a6",
   "metadata": {},
   "outputs": [
    {
     "data": {
      "text/plain": [
       "({0: 399.75, 1: 1484.5, 2: 20184.5, 3: 1704.75, 4: 182.0, 5: 472852.75},\n",
       " {0: 399.75, 2: 20184.5, 4: 182.0, 1: 1484.5, 3: 1704.75, 5: 472852.75})"
      ]
     },
     "execution_count": 14,
     "metadata": {},
     "output_type": "execute_result"
    }
   ],
   "source": [
    "my_a_ori_a.rare_values[5], a_ori_a.rare_values[5]"
   ]
  },
  {
   "cell_type": "code",
   "execution_count": 13,
   "id": "10cc086d",
   "metadata": {},
   "outputs": [
    {
     "data": {
      "text/plain": [
       "True"
      ]
     },
     "execution_count": 13,
     "metadata": {},
     "output_type": "execute_result"
    }
   ],
   "source": [
    "my_a_ori_a == a_ori_a"
   ]
  }
 ],
 "metadata": {
  "kernelspec": {
   "display_name": "Python 3 (ipykernel)",
   "language": "python",
   "name": "python3"
  },
  "language_info": {
   "codemirror_mode": {
    "name": "ipython",
    "version": 3
   },
   "file_extension": ".py",
   "mimetype": "text/x-python",
   "name": "python",
   "nbconvert_exporter": "python",
   "pygments_lexer": "ipython3",
   "version": "3.9.5"
  }
 },
 "nbformat": 4,
 "nbformat_minor": 5
}