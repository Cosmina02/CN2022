{
 "cells": [
  {
   "cell_type": "markdown",
   "id": "encouraging-horizon",
   "metadata": {
    "id": "encouraging-horizon"
   },
   "source": [
    "# Calcul Numeric - Tema nr. 1"
   ]
  },
  {
   "cell_type": "markdown",
   "id": "similar-battlefield",
   "metadata": {
    "id": "similar-battlefield"
   },
   "source": [
    "### Exercitiul 1\n",
    "\n",
    "Sa se gaseasca cel mai mic numar pozitiv $u > 0$, de forma $u = 10^{−m}$,\n",
    "astfel incat:\n",
    "\n",
    "$$1.0 +_c u \\neq 1.0$$\n",
    "\n",
    "unde prin $+c$ am notat operatia de adunare efectuata de calculator.\n",
    "\n",
    "Numarul u poarta numele de precizia masina."
   ]
  },
  {
   "cell_type": "code",
   "execution_count": 19,
   "id": "useful-great",
   "metadata": {
    "colab": {
     "base_uri": "https://localhost:8080/"
    },
    "executionInfo": {
     "elapsed": 246,
     "status": "ok",
     "timestamp": 1645268307143,
     "user": {
      "displayName": "Luca Andrei",
      "photoUrl": "https://lh3.googleusercontent.com/a-/AOh14Gid6WB3DOcAKd--9k_c8yPytbFASTq0ZFJoaAvoXw=s64",
      "userId": "02877819864600874847"
     },
     "user_tz": -120
    },
    "id": "useful-great",
    "outputId": "c593c541-b7bc-446d-cc67-be21e44e6782",
    "scrolled": true
   },
   "outputs": [
    {
     "name": "stdout",
     "output_type": "stream",
     "text": [
      "u = 1e-15\n",
      "Precizia masina este None\n"
     ]
    }
   ],
   "source": [
    "from main import get_u\n",
    "\n",
    "u = get_u()\n",
    "print(f\"Precizia masina este {u}\")"
   ]
  },
  {
   "cell_type": "markdown",
   "id": "related-broadcasting",
   "metadata": {
    "id": "related-broadcasting"
   },
   "source": [
    "### Exercitiul 2\n",
    "\n",
    "Operatia $+_c$ este neasociativa: fie numerele reale $a = 1.0, b = u/10,\n",
    "c = u/10$, unde u este precizia masina calculata anterior. Sa se verifice\n",
    "ca operatia de adunare efectuata de calculator nu este asociativa, i.e.:\n",
    "\n",
    "$$(a +_c b) +_c c \\neq a +_c (b +_c c)$$\n",
    "\n",
    "Gasiti un exemplu pentru care operatia $\\times_c$ nu este asociativa."
   ]
  },
  {
   "cell_type": "code",
   "execution_count": 20,
   "id": "exceptional-agency",
   "metadata": {
    "colab": {
     "base_uri": "https://localhost:8080/"
    },
    "executionInfo": {
     "elapsed": 20,
     "status": "ok",
     "timestamp": 1645268307891,
     "user": {
      "displayName": "Luca Andrei",
      "photoUrl": "https://lh3.googleusercontent.com/a-/AOh14Gid6WB3DOcAKd--9k_c8yPytbFASTq0ZFJoaAvoXw=s64",
      "userId": "02877819864600874847"
     },
     "user_tz": -120
    },
    "id": "exceptional-agency",
    "outputId": "5938b04a-90a2-444e-9f01-e051bfc307c3"
   },
   "outputs": [
    {
     "ename": "TypeError",
     "evalue": "unsupported operand type(s) for /: 'NoneType' and 'int'",
     "output_type": "error",
     "traceback": [
      "\u001b[1;31m---------------------------------------------------------------------------\u001b[0m",
      "\u001b[1;31mTypeError\u001b[0m                                 Traceback (most recent call last)",
      "Input \u001b[1;32mIn [20]\u001b[0m, in \u001b[0;36m<cell line: 2>\u001b[1;34m()\u001b[0m\n\u001b[0;32m      1\u001b[0m a \u001b[38;5;241m=\u001b[39m \u001b[38;5;241m1.0\u001b[39m\n\u001b[1;32m----> 2\u001b[0m b \u001b[38;5;241m=\u001b[39m \u001b[43mu\u001b[49m\u001b[43m \u001b[49m\u001b[38;5;241;43m/\u001b[39;49m\u001b[43m \u001b[49m\u001b[38;5;241;43m10\u001b[39;49m\n\u001b[0;32m      3\u001b[0m c \u001b[38;5;241m=\u001b[39m u \u001b[38;5;241m/\u001b[39m \u001b[38;5;241m10\u001b[39m\n\u001b[0;32m      5\u001b[0m (a \u001b[38;5;241m+\u001b[39m b) \u001b[38;5;241m+\u001b[39m c, a \u001b[38;5;241m+\u001b[39m (b \u001b[38;5;241m+\u001b[39m c)\n",
      "\u001b[1;31mTypeError\u001b[0m: unsupported operand type(s) for /: 'NoneType' and 'int'"
     ]
    }
   ],
   "source": [
    "a = 1.0\n",
    "b = u / 10\n",
    "c = u / 10\n",
    "\n",
    "(a + b) + c, a + (b + c)"
   ]
  },
  {
   "cell_type": "markdown",
   "id": "protecting-artwork",
   "metadata": {
    "id": "protecting-artwork"
   },
   "source": [
    "Exemplu pentru cand inmultirea ($\\times_c$) nu e este asociativa."
   ]
  },
  {
   "cell_type": "code",
   "execution_count": null,
   "id": "adaptive-basketball",
   "metadata": {
    "colab": {
     "base_uri": "https://localhost:8080/",
     "height": 89
    },
    "executionInfo": {
     "elapsed": 19,
     "status": "ok",
     "timestamp": 1645268307892,
     "user": {
      "displayName": "Luca Andrei",
      "photoUrl": "https://lh3.googleusercontent.com/a-/AOh14Gid6WB3DOcAKd--9k_c8yPytbFASTq0ZFJoaAvoXw=s64",
      "userId": "02877819864600874847"
     },
     "user_tz": -120
    },
    "id": "adaptive-basketball",
    "outputId": "1527d50e-9207-482a-9ca1-c9ead80e184b"
   },
   "outputs": [],
   "source": [
    "from tema1 import numere_inmultite_non_asociative\n",
    "\n",
    "a, b, c = numere_inmultite_non_asociative()\n",
    "\n",
    "print(f\"a={a}\")\n",
    "print(f\"b={b}\")\n",
    "print(f\"c={c}\")\n",
    "\n",
    "f\"(a * b) * c, a * (b * c) = {(a * b) * c}, {a * (b * c)}\""
   ]
  },
  {
   "cell_type": "markdown",
   "id": "sexual-witness",
   "metadata": {
    "id": "sexual-witness"
   },
   "source": [
    "### Exercitiul 3 - Aproximarea unor functii elementare"
   ]
  },
  {
   "cell_type": "markdown",
   "id": "ognZwLL1evFF",
   "metadata": {
    "id": "ognZwLL1evFF"
   },
   "source": [
    "\n",
    "Implementaţi următoarele metode de aproximare a valorilor funcţilor sinus, cosinus şi logaritm natural.\n",
    "\n",
    "\n",
    "$$\\sin \\left(\\frac{1}{4} \\pi x\\right) \\approx x \\frac{P_{4}\\left(x^{2}\\right)}{Q_{4}\\left(x^{2}\\right)} \\quad, \\quad \\textbf{pentru } -1 \\leq x \\leq 1$$\n",
    "\n",
    "\n",
    "\n",
    "$$\\cos \\left(\\frac{1}{4} \\pi x\\right) \\approx \\frac{P_{4}\\left(x^{2}\\right)}{Q_{4}\\left(x^{2}\\right)} \\quad, \\quad \\textbf{pentru } -1 \\leq x \\leq 1$$\n",
    "\n",
    "$$\\ln (x) \\quad \\approx z \\frac{P_{4}\\left(z^{2}\\right)}{Q_{4}\\left(z^{2}\\right)} \\quad, \\quad \\textbf{unde } z=\\frac{x-1}{x+1} \\textbf{ şi }\\frac{1}{\\sqrt{2}} \\leq x \\leq \\sqrt{2}$$\n",
    "Polinoamele din formulele de mai sus se calculează folosind următoarele relatii:\n",
    "$$\n",
    "\\begin{aligned}\n",
    "&P_{4}(y)=a_{0}+y\\left(a_{1}+y\\left(a_{2}+y\\left(a_{3}+y a_{4}\\right)\\right)\\right) \\\\\n",
    "&Q_{4}(y)=b_{0}+y\\left(b_{1}+y\\left(b_{2}+y\\left(b_{3}+y b_{4}\\right)\\right)\\right)\n",
    "\\end{aligned}\n",
    "$$\n",
    "\n",
    "Pentru fiecare din funcţile sinus, cosinus şi logaritm natural, mulţimea coeficienţilor $\\left\\{a_{i} ; i=0, \\ldots, 4\\right\\},\\left\\{b_{i} ; i=0, \\ldots, 4\\right\\}$ este diferită.\n",
    "\n",
    "Coeficientii sunt definiti in urmatoarea celula.\n",
    "\n",
    "Pentru a evita împărţirile cu valori apropiate de 0 în calculele de mai sus, numitorii care au modulul mai mic decât $10^{-12}$ vor fi înlocuiţi cu $10^{-12}$.\n",
    "\n",
    "Pentru fiecare funcţie, afişaţi argumentul funcţiei, valoarea calculată cu formulele de mai sus, valoarea funcţiei corespunzătoare din biblioteca matematică (pentru acelaşi argument) şi modulul diferenţei dintre valoarea calculată de voi şi cea cu biblioteca matematică.\n",
    "\n",
    "Bonus 10 pt. : Pentru functiile sinus şi cosinus, folosind periodicitatea lor şi alte relaţii ale funcţilor trigonometrice, calculaţi valorile lor pentru orice argument real, nu doar pentru cele din intervalul $\\left[-\\frac{\\pi}{4}, \\frac{\\pi}{4}\\right] .$\n"
   ]
  },
  {
   "cell_type": "code",
   "execution_count": null,
   "id": "lGhCSOFeiBN7",
   "metadata": {
    "id": "lGhCSOFeiBN7"
   },
   "outputs": [],
   "source": [
    "def sin_coef():\n",
    "    a = [\n",
    "      1805490264.690988571178600370234394843221,\n",
    "      -164384678.227499837726129612587952660511,  \n",
    "      3664210.647581261810227924465160827365,\n",
    "      -28904.140246461781357223741935980097,\n",
    "      76.568981088717405810132543523682\n",
    "    ]\n",
    "    b = [\n",
    "      2298821602.638922662086487520330827251172, \n",
    "      27037050.118894436776624866648235591988,\n",
    "      155791.388546947693206469423979505671,\n",
    "      540.567501261284024767779280700089,\n",
    "      1.0 \n",
    "    ]\n",
    "    return a, b\n",
    "\n",
    "       \n",
    "def cos_coef():\n",
    "    a = [\n",
    "      1090157078.174871420428849017262549038606,\n",
    "      -321324810.993150712401352959397648541681,\n",
    "      12787876.849523878944051885325593878177,\n",
    "      -150026.206045948110568310887166405972,\n",
    "      538.333564203182661664319151379451,   \n",
    "    ]\n",
    "\n",
    "    b = [\n",
    "    1090157078.174871420428867295670039506886,\n",
    "    14907035.776643879767410969509628406502,\n",
    "    101855.811943661368302608146695082218,\n",
    "    429.772865107391823245671264489311,\n",
    "    1.0,\n",
    "    ]\n",
    "\n",
    "    return a, b\n",
    "\n",
    "def ln_coef():\n",
    "    a = [\n",
    "    75.151856149910794642732375452928,\n",
    "    -134.730399688659339844586721162914, \n",
    "    74.201101420634257326499008275515, \n",
    "    -12.777143401490740103758406454323, \n",
    "    0.332579601824389206151063529971,  \n",
    "    ]\n",
    "\n",
    "    b = [\n",
    "    37.575928074955397321366156007781, \n",
    "    -79.890509202648135695909995521310,  \n",
    "    56.215534829542094277143417404711, \n",
    "    -14.516971195056682948719125661717, \n",
    "    1.0 \n",
    "    ]\n",
    "    return a, b "
   ]
  },
  {
   "cell_type": "markdown",
   "id": "yvqQ0oMRixjD",
   "metadata": {
    "id": "yvqQ0oMRixjD"
   },
   "source": [
    "Imports required for plots"
   ]
  },
  {
   "cell_type": "code",
   "execution_count": null,
   "id": "nwPBGmYhi22k",
   "metadata": {
    "id": "nwPBGmYhi22k"
   },
   "outputs": [],
   "source": [
    "import plotly.graph_objects as go\n",
    "import numpy as np"
   ]
  },
  {
   "cell_type": "markdown",
   "id": "SP2wuZsjmZWg",
   "metadata": {
    "id": "SP2wuZsjmZWg"
   },
   "source": [
    "### Aproximare sinus"
   ]
  },
  {
   "cell_type": "code",
   "execution_count": null,
   "id": "guilty-omega",
   "metadata": {
    "colab": {
     "base_uri": "https://localhost:8080/",
     "height": 542
    },
    "executionInfo": {
     "elapsed": 15,
     "status": "ok",
     "timestamp": 1645268307893,
     "user": {
      "displayName": "Luca Andrei",
      "photoUrl": "https://lh3.googleusercontent.com/a-/AOh14Gid6WB3DOcAKd--9k_c8yPytbFASTq0ZFJoaAvoXw=s64",
      "userId": "02877819864600874847"
     },
     "user_tz": -120
    },
    "id": "guilty-omega",
    "outputId": "2511a705-8fee-4fdb-93b6-ceac4710e118"
   },
   "outputs": [],
   "source": [
    "from tema1 import approx_sin\n",
    "\n",
    "x = np.linspace(-3, 3, 100)\n",
    "\n",
    "y = [approx_sin(x_value) for x_value in x]\n",
    "fig = go.Figure(data=go.Scatter(x=x, y=y, name=\"polynomial approx method\"))\n",
    "\n",
    "y = [np.sin(x_value) for x_value in x]\n",
    "fig.add_trace(go.Scatter(x=x, y=y, name=\"numpy sin method\"))\n",
    "fig.show()"
   ]
  },
  {
   "cell_type": "markdown",
   "id": "k98X01CcmjdP",
   "metadata": {
    "id": "k98X01CcmjdP"
   },
   "source": [
    "### Aproximarea functiei cosinus "
   ]
  },
  {
   "cell_type": "code",
   "execution_count": null,
   "id": "N5pdRAjqlY5X",
   "metadata": {
    "colab": {
     "base_uri": "https://localhost:8080/",
     "height": 542
    },
    "executionInfo": {
     "elapsed": 13,
     "status": "ok",
     "timestamp": 1645268307893,
     "user": {
      "displayName": "Luca Andrei",
      "photoUrl": "https://lh3.googleusercontent.com/a-/AOh14Gid6WB3DOcAKd--9k_c8yPytbFASTq0ZFJoaAvoXw=s64",
      "userId": "02877819864600874847"
     },
     "user_tz": -120
    },
    "id": "N5pdRAjqlY5X",
    "outputId": "68be7c4d-3436-471c-b284-4ce785faeb50"
   },
   "outputs": [],
   "source": [
    "from tema1 import approx_cos\n",
    "\n",
    "x = np.linspace(-13, 13, 100)\n",
    "\n",
    "y = [approx_cos(x_value) for x_value in x]\n",
    "fig = go.Figure(data=go.Scatter(x=x, y=y, name=\"polynomial approx method\"))\n",
    "\n",
    "y = [np.cos(x_value) for x_value in x]\n",
    "fig.add_trace(go.Scatter(x=x, y=y, name=\"numpy cos method\"))\n",
    "fig.show()"
   ]
  },
  {
   "cell_type": "markdown",
   "id": "P7cBslixmyMH",
   "metadata": {
    "id": "P7cBslixmyMH"
   },
   "source": [
    "### Approximarea logaritmului natural"
   ]
  },
  {
   "cell_type": "code",
   "execution_count": null,
   "id": "GmC-JTx4koj5",
   "metadata": {
    "colab": {
     "base_uri": "https://localhost:8080/",
     "height": 542
    },
    "executionInfo": {
     "elapsed": 7,
     "status": "ok",
     "timestamp": 1645268331384,
     "user": {
      "displayName": "Luca Andrei",
      "photoUrl": "https://lh3.googleusercontent.com/a-/AOh14Gid6WB3DOcAKd--9k_c8yPytbFASTq0ZFJoaAvoXw=s64",
      "userId": "02877819864600874847"
     },
     "user_tz": -120
    },
    "id": "GmC-JTx4koj5",
    "outputId": "0b243b83-bc2b-4029-b36d-cf815f62ee4f"
   },
   "outputs": [],
   "source": [
    "from tema1 import approx_ln\n",
    "\n",
    "x = np.linspace(0.01, 1000, 1000)\n",
    "\n",
    "y = [approx_ln(x_value) for x_value in x]\n",
    "fig = go.Figure(data=go.Scatter(x=x, y=y, name=\"polynomial approx method\"))\n",
    "\n",
    "y = [np.log(x_value) for x_value in x]\n",
    "fig.add_trace(go.Scatter(x=x, y=y, name=\"numpy ln method\"))\n",
    "fig.show()"
   ]
  },
  {
   "cell_type": "code",
   "execution_count": null,
   "id": "fd7b0e1c",
   "metadata": {},
   "outputs": [],
   "source": []
  }
 ],
 "metadata": {
  "colab": {
   "collapsed_sections": [],
   "name": "[CN] Tema 1.ipynb",
   "provenance": [
    {
     "file_id": "143jEiPZsVN_xIRXPEzjUSap-KfL3RWX8",
     "timestamp": 1645263205087
    }
   ]
  },
  "kernelspec": {
   "display_name": "Python 3 (ipykernel)",
   "language": "python",
   "name": "python3"
  },
  "language_info": {
   "codemirror_mode": {
    "name": "ipython",
    "version": 3
   },
   "file_extension": ".py",
   "mimetype": "text/x-python",
   "name": "python",
   "nbconvert_exporter": "python",
   "pygments_lexer": "ipython3",
   "version": "3.8.10"
  }
 },
 "nbformat": 4,
 "nbformat_minor": 5
}
