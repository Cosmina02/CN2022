{
 "cells": [
  {
   "cell_type": "markdown",
   "id": "a1477322",
   "metadata": {},
   "source": [
    "# Tema 4\n",
    "\n",
    "Link: https://profs.info.uaic.ro/~ancai/CN/lab/4/Tema%204.pdf\n",
    "\n",
    "**Topics:**\n",
    "* metoda **Jacobi** pentru rezolvarea de sisteme liniare $Ax=f$\n",
    "  * unde $A$ este o matrice rara ($n$ suficient de mare) simetrica\n",
    "  * si $det(A) \\neq 0$ \n",
    "  \n",
    "  \n",
    "Resurse folosite pentru vizualizari: \n",
    "* Histogram: https://plotly.com/python/histograms/\n",
    "* Slider: https://plotly.com/python/sliders/icelor\n",
    "\n",
    "---\n",
    "\n",
    "\n",
    "In fisierele (a_i.txt, b_i.txt, $i=1, \\ldots, 5$ ) postate pe pagina laboratorului, sunt memorate pentru 5 sisteme liniare cu matrice rară (cu 'puține' elemente $\\left.a_{i j} \\neq \\boldsymbol{0}\\right)$ şi simetrică $\\left(\\boldsymbol{A}=\\boldsymbol{A}^{T}\\right), \\boldsymbol{A x}=\\boldsymbol{b}$, următoarele elemente:\n",
    "- $\\boldsymbol{n}$ dimensiunea sistemului,\n",
    "- $\\boldsymbol{a}_{i j} \\neq \\boldsymbol{0}, \\boldsymbol{i}, \\boldsymbol{j}(\\boldsymbol{j} \\leq \\boldsymbol{i})$ - elementele nenule din partea inferior triunghiulară a matricei rare şi simetrice $A \\in \\mathbb{R}^{n \\times n}$, indicii de linie și de coloană ai respectivului element,\n",
    "- $\\boldsymbol{b}_{i}, \\boldsymbol{i}=1,2, \\ldots, \\boldsymbol{n}$ elementele vectorului termenilor liberi $b \\in \\mathbb{R}^{n}$.\n",
    "1. Folosind fişierele atașate, să se citească dimensiunea sistemului, vectorul termenilor liberi şi să se genereze vectorii necesari pentru memorarea economică a matricei rare (se va folosi schema de memorare rară descrisă în Tema 3). Se presupune că elementele nenule ale matricei sunt plasate aleator în fişier (nu sunt ordonate după indicii de linie sau de coloană, sau altfel). Să se verifice că elementele de pe diagonala matricei sunt nenule. Se consideră dată precizia calculelor $\\varepsilon=10^{-p}$.\n",
    "2. Cu această memorare rară a matricei $\\boldsymbol{A}$ să se aproximeze soluția sistemului liniar:\n",
    "$$\n",
    "A x=b\n",
    "$$\n",
    "folosind metoda Jacobi. Afişaţi numărul de iteraţii efectuate, în caz de convergenţă.\n",
    "3. Să se verifice soluția calculată afişând norma:\n",
    "$$\n",
    "\\left\\|A x_{J}-b\\right\\|_{\\infty}\n",
    "$$\n",
    "unde $\\boldsymbol{x}_{J}$ este aproximarea soluției exacte obținută cu algoritmul Jacobi.\n",
    "\n",
    "4. În toate calculele care includ matricea $\\boldsymbol{A}$, se cere să se utilizeze memorarea rară a matricei (să nu se aloce în program nici o matrice clasică).\n",
    "5. Calcularea vectorului de la pasul $\\boldsymbol{k}, \\boldsymbol{x}^{(\\boldsymbol{k}+1)}$, să se facă cu o singură parcurgere a structurii rare asociate matricei $\\boldsymbol{A}$. Ar fi util ca la citirea matricei din fişier şi construcţia structurii rare, să alocaţi un vector suplimentar $d$ care să memoreze elementele de pe diagonala matricei $\\boldsymbol{A}$."
   ]
  },
  {
   "cell_type": "code",
   "execution_count": 2,
   "id": "a197cfc2",
   "metadata": {},
   "outputs": [
    {
     "ename": "ModuleNotFoundError",
     "evalue": "No module named 'numpy'",
     "output_type": "error",
     "traceback": [
      "\u001B[1;31m---------------------------------------------------------------------------\u001B[0m",
      "\u001B[1;31mModuleNotFoundError\u001B[0m                       Traceback (most recent call last)",
      "Input \u001B[1;32mIn [2]\u001B[0m, in \u001B[0;36m<cell line: 1>\u001B[1;34m()\u001B[0m\n\u001B[1;32m----> 1\u001B[0m \u001B[38;5;28;01mimport\u001B[39;00m \u001B[38;5;21;01mnumpy\u001B[39;00m \u001B[38;5;28;01mas\u001B[39;00m \u001B[38;5;21;01mnp\u001B[39;00m\n\u001B[0;32m      3\u001B[0m \u001B[38;5;66;03m# Rare Matrix implementation from tema3\u001B[39;00m\n\u001B[0;32m      4\u001B[0m \u001B[38;5;28;01mfrom\u001B[39;00m \u001B[38;5;21;01mtema3\u001B[39;00m \u001B[38;5;28;01mimport\u001B[39;00m RareMatrix\n",
      "\u001B[1;31mModuleNotFoundError\u001B[0m: No module named 'numpy'"
     ]
    }
   ],
   "source": [
    "import numpy as np\n",
    "\n",
    "# Rare Matrix implementation from tema3\n",
    "from tema3 import RareMatrix\n",
    "\n",
    "# Need to be implemented\n",
    "from tema4 import ColumnVector, LinearSystem, plot_report"
   ]
  },
  {
   "cell_type": "markdown",
   "id": "26d56943",
   "metadata": {},
   "source": [
    "### Metode iterative de rezolvare a sistemelor liniare\n",
    "\n",
    "Pp. că $\\boldsymbol{det(A)} \\neq \\mathbf{0}$, vom nota soluția exactă a sistemului cu $\\boldsymbol{x}^{*}$ :\n",
    "$$\n",
    "\\boldsymbol{x}^{*}:=\\boldsymbol{A}^{-1} b .\n",
    "$$\n",
    "Metodele iterative de rezolvare a sistemelor liniare au fost deduse pentru sistemele de dimensiune 'mare' (n 'mare'), cu matricea sistemului $\\boldsymbol{A}$, matrice rară (cu 'puţine' elemente $\\boldsymbol{a}_{i j}$ nenule). În cazul metodelor iterative matricea $A$ nu se transformă (ca în cazul algoritmului de eliminare Gauss sau a descompunerilor $\\boldsymbol{L} \\boldsymbol{U}$ sau a factorizărilor $\\boldsymbol{Q R}$ ) ci sunt folosite doar elementele nenule ale matricei pentru aproximarea soluției exacte $\\boldsymbol{x}^{*}$. Pentru matricele rare se folosesc scheme de memorare economice specifice.\n",
    "\n",
    "Pentru a aproxima soluția $\\boldsymbol{x}^{*}$ se construiește un şir de vectori $\\left\\{\\boldsymbol{x}^{(k)}\\right\\} \\subset \\mathbb{R}^{n}$ care, în anumite condiții, converge la soluția exactă $\\boldsymbol{x}^{*}$ a sistemului (1):\n",
    "$x^{(k)} \\rightarrow x^{*}$, pentru $k \\rightarrow \\infty$\n",
    "\n",
    "Vectorul $\\boldsymbol{x}^{(0)}$ se inițializează, de obicei, cu 0 :\n",
    "$$\n",
    "x_{i}^{(0)}=0, i=1, \\ldots, n\n",
    "$$\n",
    "Atunci când converge, limita șirului este chiar $\\boldsymbol{x}^{*}$ soluția sistemului (1)."
   ]
  },
  {
   "cell_type": "markdown",
   "id": "8cd08623",
   "metadata": {},
   "source": [
    "### Metoda Jacobi\n",
    "Vom presupune că toate elementele diagonale ale matricei $\\boldsymbol{A}$ sunt nenule:\n",
    "$$\n",
    "a_{i i} \\neq 0, i=1, \\ldots, n\n",
    "$$\n",
    "Când se citește matricea din fișier, se cere să se verifice dacă elementele diagonale ale matricei sunt nenule $\\left(\\left|a_{i i}\\right|>\\varepsilon, \\forall i\\right)$. Dacă există un element diagonal nul, nu se poate rezolva sistemul liniar folosind metoda iterativă Jacobi.\n",
    "Şirul de vectori generat de metoda Jacobi este următorul:\n",
    "$$\n",
    "x_{i}^{(k+1)}=\\frac{\\left(b_{i}-\\sum_{j=1}^{i-1} a_{i j} x_{j}^{(k)}-\\sum_{j=i+1}^{n} a_{i j} x_{j}^{(k)}\\right)}{a_{i i}}, i=1,2, \\ldots, n\n",
    "$$\n",
    "\n",
    "#### Pseudocod\n",
    "$$\n",
    "\\begin{aligned}\n",
    "&x^{c}=x^{p}=0 ; \\\\\n",
    "&k=0 ; \\\\\n",
    "&\\text { do } \\\\\n",
    "&\\left\\{\\quad x^{p}=x^{c} ;\\right. \\\\\n",
    "&\\quad \\text { calculează noul } x^{c} \\text { folosind } x^{p} \\text { (cu formula (3)); } \\\\\n",
    "&\\quad \\text { calculează } \\Delta x=\\left\\|x^{c}-x^{p}\\right\\| ; \\\\\n",
    "&\\quad k=k+1 ; \\\\\n",
    "&\\} \\quad \\text { while }\\left(\\Delta x \\geq \\varepsilon \\text { şi } k \\leq k_{\\max } \\text { şi } \\Delta x \\leq 10^{8}\\right) / /\\left(k_{\\max }=10000\\right) \\\\\n",
    "&\\text { if }(\\Delta x<\\varepsilon) x^{c} \\approx x^{*} ; / / x^{c} \\text { este aproximarea căutată a soluției } \\\\\n",
    "&\\text { else , divergență'; }\n",
    "\\end{aligned}\n",
    "$$"
   ]
  },
  {
   "cell_type": "markdown",
   "id": "1de0c8b6",
   "metadata": {},
   "source": [
    "Exemplu:\n",
    "\n",
    "$\n",
    "A=\\left(\\begin{array}{ccccc}\n",
    "102.5 & 0.0 & 2.5 & 0.0 & 0.73 \\\\\n",
    "0.0 & 104.88 & 1.05 & 0.0 & 0.33 \\\\\n",
    "2.5 & 1.05 & 100.0 & 0.0 & 0.0 \\\\\n",
    "0.0 & 0.0 & 0.0 & 101.3 & 1.5 \\\\\n",
    "0.73 & 0.33 & 0.0 & 1.5 & 102.23\n",
    "\\end{array}\\right), \\quad b=\\left(\\begin{array}{c}\n",
    "6.0 \\\\\n",
    "7.0 \\\\\n",
    "8.0 \\\\\n",
    "9.0 \\\\\n",
    "1.0\n",
    "\\end{array}\\right)$"
   ]
  },
  {
   "cell_type": "code",
   "execution_count": null,
   "id": "94cb4381",
   "metadata": {},
   "outputs": [],
   "source": [
    "a = RareMatrix(5, {\n",
    "    0: {0: 102.5},\n",
    "    1: {1: 104.88},\n",
    "    2: {0: 2.5, 1: 1.05, 2: 100.0},\n",
    "    3: {3: 101.3},\n",
    "    4: {0: 0.73, 1: 0.33, 3: 1.5, 4: 102.23}\n",
    "})\n",
    "b = ColumnVector(5, [6.0,7.0,8.0,9.0, 1.0])\n",
    "ls = LinearSystem(a, b)\n",
    "x, deltas, k, xs = ls.solve_jacobi()\n",
    "x"
   ]
  },
  {
   "cell_type": "markdown",
   "id": "d5a21602",
   "metadata": {},
   "source": [
    "Validam utilizand norma $\\left\\|\\boldsymbol{A} \\boldsymbol{x}_{J}-\\boldsymbol{f}\\right\\|_{\\infty}$"
   ]
  },
  {
   "cell_type": "code",
   "execution_count": null,
   "id": "27db4073",
   "metadata": {},
   "outputs": [],
   "source": [
    "np.linalg.norm(ls.a * x - ls.b.values)"
   ]
  },
  {
   "cell_type": "code",
   "execution_count": 3,
   "id": "9734d025",
   "metadata": {},
   "outputs": [
    {
     "ename": "NameError",
     "evalue": "name 'LinearSystem' is not defined",
     "output_type": "error",
     "traceback": [
      "\u001B[1;31m---------------------------------------------------------------------------\u001B[0m",
      "\u001B[1;31mNameError\u001B[0m                                 Traceback (most recent call last)",
      "File \u001B[1;32m<timed exec>:1\u001B[0m, in \u001B[0;36m<module>\u001B[1;34m\u001B[0m\n",
      "\u001B[1;31mNameError\u001B[0m: name 'LinearSystem' is not defined"
     ]
    }
   ],
   "source": [
    "%%time\n",
    "ls = LinearSystem.from_url(\n",
    "        \"http://profs.info.uaic.ro/~ancai/CN/lab/4/a_1.txt\", \n",
    "        \"http://profs.info.uaic.ro/~ancai/CN/lab/4/b_1.txt\"\n",
    "    )\n",
    "print(f\"Dimensiunea sistemului este {ls.a.n}\")\n",
    "x, deltas, k, xs = ls.solve_jacobi()\n",
    "plot_report(x, deltas, k, xs)"
   ]
  },
  {
   "cell_type": "markdown",
   "id": "cbbe3068",
   "metadata": {},
   "source": [
    "Validam utilizand norma $\\left\\|\\boldsymbol{A} \\boldsymbol{x}_{J}-\\boldsymbol{f}\\right\\|_{\\infty}$"
   ]
  },
  {
   "cell_type": "code",
   "execution_count": 4,
   "id": "8b8b6f2d",
   "metadata": {},
   "outputs": [
    {
     "ename": "NameError",
     "evalue": "name 'np' is not defined",
     "output_type": "error",
     "traceback": [
      "\u001B[1;31m---------------------------------------------------------------------------\u001B[0m",
      "\u001B[1;31mNameError\u001B[0m                                 Traceback (most recent call last)",
      "Input \u001B[1;32mIn [4]\u001B[0m, in \u001B[0;36m<cell line: 1>\u001B[1;34m()\u001B[0m\n\u001B[1;32m----> 1\u001B[0m \u001B[43mnp\u001B[49m\u001B[38;5;241m.\u001B[39mlinalg\u001B[38;5;241m.\u001B[39mnorm(ls\u001B[38;5;241m.\u001B[39ma \u001B[38;5;241m*\u001B[39m x \u001B[38;5;241m-\u001B[39m ls\u001B[38;5;241m.\u001B[39mb\u001B[38;5;241m.\u001B[39mvalues)\n",
      "\u001B[1;31mNameError\u001B[0m: name 'np' is not defined"
     ]
    }
   ],
   "source": [
    "np.linalg.norm(ls.a * x - ls.b.values)"
   ]
  },
  {
   "cell_type": "code",
   "execution_count": null,
   "id": "281b6067",
   "metadata": {},
   "outputs": [],
   "source": [
    "%%time\n",
    "ls = LinearSystem.from_url(\n",
    "        \"http://profs.info.uaic.ro/~ancai/CN/lab/4/a_2.txt\", \n",
    "        \"http://profs.info.uaic.ro/~ancai/CN/lab/4/b_2.txt\"\n",
    "    )\n",
    "print(f\"Dimensiunea sistemului este {ls.a.n}\")\n",
    "x, deltas, k, xs = ls.solve_jacobi()\n",
    "plot_report(x, deltas, k, xs)"
   ]
  },
  {
   "cell_type": "markdown",
   "id": "379c6cde",
   "metadata": {},
   "source": [
    "Validam utilizand norma $\\left\\|\\boldsymbol{A} \\boldsymbol{x}_{J}-\\boldsymbol{f}\\right\\|_{\\infty}$"
   ]
  },
  {
   "cell_type": "code",
   "execution_count": null,
   "id": "cca30bb7",
   "metadata": {},
   "outputs": [],
   "source": [
    "np.linalg.norm(ls.a * x - ls.b.values)"
   ]
  },
  {
   "cell_type": "code",
   "execution_count": null,
   "id": "3cc6b820",
   "metadata": {},
   "outputs": [],
   "source": [
    "ls = LinearSystem.from_url(\n",
    "        \"http://profs.info.uaic.ro/~ancai/CN/lab/4/a_3.txt\", \n",
    "        \"http://profs.info.uaic.ro/~ancai/CN/lab/4/b_3.txt\"\n",
    "    )\n",
    "print(f\"Dimensiunea sistemului este {ls.a.n}\")\n",
    "x, deltas, k, xs = ls.solve_jacobi()\n",
    "plot_report(x, deltas, k, xs)"
   ]
  },
  {
   "cell_type": "markdown",
   "id": "5b6c4f27",
   "metadata": {},
   "source": [
    "Validam utilizand norma $\\left\\|\\boldsymbol{A} \\boldsymbol{x}_{J}-\\boldsymbol{f}\\right\\|_{\\infty}$"
   ]
  },
  {
   "cell_type": "code",
   "execution_count": null,
   "id": "a6b6e73d",
   "metadata": {},
   "outputs": [],
   "source": [
    "np.linalg.norm(ls.a * x - ls.b.values)"
   ]
  },
  {
   "cell_type": "code",
   "execution_count": null,
   "id": "f3fdfac1",
   "metadata": {},
   "outputs": [],
   "source": [
    "ls = LinearSystem.from_url(\n",
    "        \"http://profs.info.uaic.ro/~ancai/CN/lab/4/a_4.txt\", \n",
    "        \"http://profs.info.uaic.ro/~ancai/CN/lab/4/b_4.txt\"\n",
    "    )\n",
    "print(f\"Dimensiunea sistemului este {ls.a.n}\")\n",
    "x, deltas, k, xs = ls.solve_jacobi()\n",
    "plot_report(x, deltas, k, xs)"
   ]
  },
  {
   "cell_type": "markdown",
   "id": "0b8562df",
   "metadata": {},
   "source": [
    "Validam utilizand norma $\\left\\|\\boldsymbol{A} \\boldsymbol{x}_{J}-\\boldsymbol{f}\\right\\|_{\\infty}$"
   ]
  },
  {
   "cell_type": "code",
   "execution_count": null,
   "id": "8066f269",
   "metadata": {},
   "outputs": [],
   "source": [
    "np.linalg.norm(ls.a * x - ls.b.values)"
   ]
  },
  {
   "cell_type": "code",
   "execution_count": null,
   "id": "fc163fb0",
   "metadata": {},
   "outputs": [],
   "source": [
    "ls = LinearSystem.from_url(\n",
    "        \"http://profs.info.uaic.ro/~ancai/CN/lab/4/a_5.txt\", \n",
    "        \"http://profs.info.uaic.ro/~ancai/CN/lab/4/b_5.txt\"\n",
    "    )\n",
    "print(f\"Dimensiunea sistemului este {ls.a.n}\")\n",
    "x, deltas, k, xs = ls.solve_jacobi()\n",
    "plot_report(x, deltas, k, xs)\n",
    "deltas"
   ]
  }
 ],
 "metadata": {
  "kernelspec": {
   "display_name": "Python 3 (ipykernel)",
   "language": "python",
   "name": "python3"
  },
  "language_info": {
   "codemirror_mode": {
    "name": "ipython",
    "version": 3
   },
   "file_extension": ".py",
   "mimetype": "text/x-python",
   "name": "python",
   "nbconvert_exporter": "python",
   "pygments_lexer": "ipython3",
   "version": "3.9.5"
  }
 },
 "nbformat": 4,
 "nbformat_minor": 5
}