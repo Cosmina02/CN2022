{
 "cells": [
  {
   "cell_type": "markdown",
   "id": "a69c444a",
   "metadata": {},
   "source": [
    "# Tema 2\n",
    "\n",
    "Topics:\n",
    "1. Metoda substitutiei inverse\n",
    "2. Algoritmul de Elminiare Gauss"
   ]
  },
  {
   "cell_type": "code",
   "execution_count": 36,
   "id": "5c5865ad",
   "metadata": {},
   "outputs": [],
   "source": [
    "import numpy as np\n",
    "import unittest\n",
    "import random\n",
    "\n",
    "np.random.seed(10)\n",
    "\n",
    "# functions that need to be implemented\n",
    "from tema2 import substitution_method#, get_inv, gauss_algorithm\n",
    "\n",
    "# dummy functions that mirror standard methods from libraries (but you'll have to discover them)\n",
    "# from tema2 import get_norm, lib_solve, lib_inv\n",
    "\n",
    "# from tema2 import plot_matrix_evolution\n",
    "\n",
    "np.set_printoptions(suppress=True)"
   ]
  },
  {
   "cell_type": "markdown",
   "id": "b475e101",
   "metadata": {},
   "source": [
    "## 1. Metoda substitutiei inverse\n",
    "\n",
    "**TL;DR:** Metoda substituiei inverse rezolva sisteme linare in care matricea asociata sistemului este triunghiulara (inferior sau superior)."
   ]
  },
  {
   "cell_type": "markdown",
   "id": "a11e7e0e",
   "metadata": {},
   "source": [
    "* **Ce este o matrice triunghiulara superior?** O matrice triunghiulara superior este o matrice care are valori nule sub diagonala principala. "
   ]
  },
  {
   "cell_type": "code",
   "execution_count": 37,
   "id": "be9feffe",
   "metadata": {},
   "outputs": [
    {
     "data": {
      "text/plain": [
       "array([[ 1,  2,  3,  4],\n",
       "       [ 5,  6,  7,  8],\n",
       "       [ 9, 10, 11, 12],\n",
       "       [13, 14, 15, 16]])"
      ]
     },
     "execution_count": 37,
     "metadata": {},
     "output_type": "execute_result"
    }
   ],
   "source": [
    "# generate a 4x4 matrix with elements from 1 to 16\n",
    "A = (np.arange(4*4) + 1).reshape(4, 4)\n",
    "A"
   ]
  },
  {
   "cell_type": "code",
   "execution_count": 38,
   "id": "b375703c",
   "metadata": {},
   "outputs": [
    {
     "data": {
      "text/plain": [
       "array([[ 1,  2,  3,  4],\n",
       "       [ 0,  6,  7,  8],\n",
       "       [ 0,  0, 11, 12],\n",
       "       [ 0,  0,  0, 16]])"
      ]
     },
     "execution_count": 38,
     "metadata": {},
     "output_type": "execute_result"
    }
   ],
   "source": [
    "# generated superior triangular matrix from A\n",
    "np.triu(A)"
   ]
  },
  {
   "cell_type": "markdown",
   "id": "56049b03",
   "metadata": {},
   "source": [
    "* **Ce este o matrice triunghiulara inferior?** O matrice triunghiulara inferior este o matrice care are valori nule deasupra diagonala principala. "
   ]
  },
  {
   "cell_type": "code",
   "execution_count": 39,
   "id": "d418ab7b",
   "metadata": {},
   "outputs": [
    {
     "data": {
      "text/plain": [
       "array([[ 1,  0,  0,  0],\n",
       "       [ 5,  6,  0,  0],\n",
       "       [ 9, 10, 11,  0],\n",
       "       [13, 14, 15, 16]])"
      ]
     },
     "execution_count": 39,
     "metadata": {},
     "output_type": "execute_result"
    }
   ],
   "source": [
    "# generated inferior triangular matrix from A\n",
    "np.tril(A)"
   ]
  },
  {
   "cell_type": "markdown",
   "id": "ccd95f78",
   "metadata": {},
   "source": [
    "### Metoda substitutiei inverse\n",
    "Fie sistemul liniar:\n",
    "$$\n",
    "A x=b\n",
    "$$\n",
    "\n",
    "unde matricea sistemului $A$ este **triunghiulară superior**. Pentru a găsi soluţia unică a sistemului, trebuie ca matricea să fie nesingulară. Determinantul matricelor triunghiulare este dat de formula:\n",
    "$$\n",
    "\\operatorname{det} A=a_{11} a_{22} \\cdots a_{n n}\n",
    "$$\n",
    "Prin urmare, pentru rezolvarea sistemului vom presupune că:\n",
    "$$\n",
    "\\operatorname{det} A \\neq 0 \\Longleftrightarrow a_{i i} \\neq 0 \\quad \\forall i=1,2, \\ldots, n\n",
    "$$\n",
    "Vom considera sistemul liniar cu matrice superior triunghiulară:\n",
    "\n",
    "\\begin{align*}\n",
    "a_{11} x_{1}+\\cdots+a_{1 i} x_{i}+\\cdots+a_{1 n-1} x_{n-1}+a_{1 n} x_{n}&=b_{1}\\\\\n",
    "\\cdots\\\\\n",
    "a_{i i} x_{i}+\\cdots+a_{i n-1} x_{n-1}+a_{i n} x_{n}&=b_{i}\\\\\n",
    "\\cdots\\\\\n",
    "a_{n-1 n-1} x_{n-1}+a_{n-1 n} x_{n}&=b_{n-1}\\\\\n",
    "a_{n n} x_{n}&=b_{n}\\\\\n",
    "\\end{align*}\n",
    "\n",
    "Necunoscutele $x_{1}, x_{2}, \\ldots, x_{n}$ se deduc pe rând, folosind ecuaţiile sistemului de la ultima către prima. Din ultima ecuaţie, deducem valoarea lui $x_{n}$ :\n",
    "$$\n",
    "x_{n}=\\frac{b_{n}}{a_{n n}}\n",
    "$$\n",
    "Folosind valoarea lui $x_{n}$ calculată mai sus, din penultima ecuaţie obţinem:\n",
    "$$\n",
    "x_{n-1}=\\frac{b_{n-1}-a_{n-1 n} x_{n}}{a_{n-1 n-1}}\n",
    "$$\n",
    "\n",
    "\n",
    "Continuăm să calculăm valori $x_{i}$ din ecuaţiile sistemului:\n",
    "$$\n",
    "x_{i}=\\frac{b_{i}-a_{i i+1} x_{i+1}-\\cdots-a_{i n} x_{n}}{a_{i i}}\n",
    "$$\n",
    "Din prima ecuaţie găsim valoarea lui $x_{1}$ :\n",
    "$$\n",
    "x_{1}=\\frac{b_{1}-a_{12} x_{2}-\\cdots-a_{1 n} x_{n}}{a_{11}}\n",
    "$$\n",
    "Procedeul descris mai sus poartă numele de metoda substituţiei inverse pentru rezolvarea sistemelor liniare cu matrice superior triunghiulară:\n",
    "$$\n",
    "x_{i}=\\frac{\\left(b_{i}-\\sum_{j=i+1}^{n} a_{i j} x_{j}\\right)}{a_{i i}} \\quad, \\quad i=n, n-1, \\ldots, 2,1\n",
    "$$"
   ]
  },
  {
   "cell_type": "markdown",
   "id": "9f43fece",
   "metadata": {},
   "source": [
    "#### Exemplu pentru metoda substitutiei inverse\n",
    "$$\n",
    "\\left(\\begin{array}{ccc}\n",
    "3 & 1 & -5 \\\\\n",
    "& -2 & 4 \\\\\n",
    "& & 2\n",
    "\\end{array}\\right)\\left(\\begin{array}{l}\n",
    "x_{1} \\\\\n",
    "x_{2} \\\\\n",
    "x_{3}\n",
    "\\end{array}\\right)=\\left(\\begin{array}{c}\n",
    "1 \\\\\n",
    "10 \\\\\n",
    "6\n",
    "\\end{array}\\right)$$\n",
    "\n",
    "#### Rezolvare:\n",
    "\n",
    "$$x_n = \\frac{b_n}{a_{nn}} \\Rightarrow x_3 = \\frac{b_3}{a_{33}} = \\frac{6}{2} = 3$$\n",
    "\n",
    "\n",
    "$$\n",
    "x_{i}=\\frac{\\left(b_{i}-\\sum_{j=i+1}^{n} a_{i j} x_{j}\\right)}{a_{i i}} \\quad, \\quad i=n, n-1, \\ldots, 2,1\n",
    "\\Rightarrow\n",
    "x_2=\\frac{10 - (4 * 3)}{-2}=1\n",
    "$$\n",
    "\n",
    "$$\n",
    "x_1=\\frac{1 - ((1 * 1) + (-5 * 3))}{3} = \\frac{1 - (-14)}{3} = \\frac{15}{3} = 5\n",
    "$$"
   ]
  },
  {
   "cell_type": "code",
   "execution_count": 44,
   "id": "57b5773e",
   "metadata": {},
   "outputs": [
    {
     "data": {
      "text/plain": [
       "(array([[54, 26, 49, 18, 33, 82, 81, 42, 91, 13],\n",
       "        [ 0, 82, 18, 17,  1, 32, 74, 65, 39, 23],\n",
       "        [ 0,  0, 68, 63, 96, 28, 83, 63, 78, 49],\n",
       "        [ 0,  0,  0, 38, 12, 22, 34, 96, 44, 89],\n",
       "        [ 0,  0,  0,  0, 91, 72,  9, 86, 73, 29],\n",
       "        [ 0,  0,  0,  0,  0, 86, 63, 14, 42, 34],\n",
       "        [ 0,  0,  0,  0,  0,  0, 10,  8, 23, 33],\n",
       "        [ 0,  0,  0,  0,  0,  0,  0, 75, 31, 10],\n",
       "        [ 0,  0,  0,  0,  0,  0,  0,  0, 49, 63],\n",
       "        [ 0,  0,  0,  0,  0,  0,  0,  0,  0, 46]]),\n",
       " array([19, 51, 45,  2, 64, 78, 19, 28, 84, 38]))"
      ]
     },
     "execution_count": 44,
     "metadata": {},
     "output_type": "execute_result"
    }
   ],
   "source": [
    "# Generate random superior triangular system\n",
    "n = 10\n",
    "A = np.random.randint(low=1, high=100, size=n*n).reshape(n, n)\n",
    "A = np.triu(A)\n",
    "b = np.random.randint(low=1, high=100, size=n)\n",
    "\n",
    "A, b"
   ]
  },
  {
   "cell_type": "code",
   "execution_count": 45,
   "id": "159eaf25",
   "metadata": {},
   "outputs": [
    {
     "data": {
      "text/plain": [
       "[-3.638418562342153,\n",
       " 0.7542212651864446,\n",
       " 5.464462081136201,\n",
       " -1.8572604862122344,\n",
       " -1.444721230625759,\n",
       " 2.2139135046919622,\n",
       " -2.575228070175439,\n",
       " 0.1466666666666666,\n",
       " 0.1578947368421054,\n",
       " 1.2105263157894737]"
      ]
     },
     "execution_count": 45,
     "metadata": {},
     "output_type": "execute_result"
    }
   ],
   "source": [
    "# Apply substitution method\n",
    "x = substitution_method(A, b, n)\n",
    "x"
   ]
  },
  {
   "cell_type": "code",
   "execution_count": 46,
   "id": "993e0a78",
   "metadata": {},
   "outputs": [
    {
     "data": {
      "text/plain": [
       "array([ 0.        , -0.        , -0.        ,  0.        , -0.        ,\n",
       "       -0.        ,  0.        ,  0.        ,  0.        , 17.68421053])"
      ]
     },
     "execution_count": 46,
     "metadata": {},
     "output_type": "execute_result"
    }
   ],
   "source": [
    "# Compute norm between the matrix multiplication of A and our solution\n",
    "diff = A @ x - b\n",
    "diff"
   ]
  },
  {
   "cell_type": "code",
   "execution_count": 43,
   "id": "4e2309fc",
   "metadata": {},
   "outputs": [],
   "source": [
    "# Test if the matrix is singular\n",
    "A[2, 2] = 0\n",
    "\n",
    "try: \n",
    "    x = substitution_method(A, b, n)\n",
    "except Exception as e: \n",
    "    print(e)"
   ]
  },
  {
   "cell_type": "markdown",
   "id": "1f6293b8",
   "metadata": {},
   "source": [
    "### 2. Algoritmul de eliminare Gauss\n",
    "\n",
    "\n",
    "Ideea de rezolvare este de a transforma succesiv sistemul folosind operaţii elementare (ce nu modifică soluţia sistemului) şi a aduce matricea $A$ la o formă superior triunghiulară . Algoritmul se desfăşoară în $(n-1)$ paşi. La un pas $l$ oarecare se transformă coloana $l$ a matricei $A$ în formă superior triunghiulară fără a modifica forma triunghiulară a primelor $(l-1)$ coloane.\n",
    "\n",
    "\n",
    "**Pas $l$ :** Presupunem că elementul de pe poziţia $(l, l)$ numit şi element pivot este nenul, $a_{l l} \\neq 0$. Pentru $i=l+1, \\ldots, n$ se înmulteste linia $l$ a matricei $A$ $\\mathrm{cu}\\left(-a_{i l} / a_{l l}\\right)$ şi se adună la linia $i$. Schimbare se face şi asupra componentei $i$ a vectorului $b$. Matricea $A$ şi vectorul $b$ se modifică astfel:\n",
    "$$\n",
    "\\begin{aligned}\n",
    "&a_{i j}^{\\prime}=a_{i j}-\\frac{a_{i l}}{a_{l l}} a_{l j} \\quad, \\quad i=\\overline{l+1, n}, j=\\overline{l+1, n}  &(5)\\\\\n",
    "&b_{i}^{\\prime}=b_{i}-\\frac{a_{i l}}{a_{l l}} b_{l} \\quad, \\quad i=\\overline{l+1, n}  &(6)\\\\\n",
    "&a_{i l}^{\\prime}=0 \\quad, \\quad i=\\overline{l+1, n}, &(7)\\\\\n",
    "&a_{i j}^{\\prime}=a_{i j} \\quad, \\quad b_{i}^{\\prime}=b_{i} \\text { pentru restul indicilor } i, j\n",
    "\\end{aligned}\n",
    "$$\n",
    "\n",
    "In formula $(5)$ factorul $f=\\frac{a_{i l}}{a_{l l}}$ se calculează în afara buclei for pentru $j$."
   ]
  },
  {
   "cell_type": "markdown",
   "id": "5b250a58",
   "metadata": {},
   "source": [
    "#### Alegerea pivotului $a_{l l} \\neq 0\\left(\\left|a_{l l}\\right|>\\epsilon\\right)$\n",
    "\n",
    "Pentru a aduce pe poziţia $(l, l)$ un element nenul avem trei posibilităti:\n",
    "1. **Varianta fără pivotare** : Se alege primul indice $i_{0} \\in\\{l, l+1, \\cdots, n\\}$ astfel ca $a_{i_{0} l} \\neq 0$. Se interschimbă liniile $i_{0}$ şi $l$ ale matricei $A$ şi componentele $i_{0}$ şi $l$ ale vectorului $b$.\n",
    "2. **Varianta cu pivotare parțială**: \n",
    "Se alege indicele $i_{0} \\in\\{l, l+1, \\cdots, n\\}$ astfel ca:\n",
    "$$\n",
    "\\left|a_{i_{0} l}\\right|=\\max \\left\\{\\left|a_{i l}\\right|, i=\\overline{l, n}\\right\\} .\n",
    "$$\n",
    "Se interschimbă liniile $i_{0}$ şi $l$ ale matricei $A$ şi componentele $i_{0}$ şi $l$ ale vectorului $b$.\n",
    "3. **Varianta cu pivotare totală** \n",
    "Se aleg indicii $i_{0}, j_{0} \\in\\{l, l+1, \\cdots, n\\}$ astfel ca:\n",
    "$$\n",
    "\\left|a_{i_{0} j_{0}}\\right|=\\max \\left\\{\\left|a_{i j}\\right|, i=\\overline{l, n}, j=\\overline{l, n}\\right\\} .\n",
    "$$\n",
    "Se interschimbă liniile $i_{0}$ şi $l$, coloanele $j_{0}$ şi $l$ ale matricei $A$ şi componentele $i_{0}$ şi $l$ ale vectorului $b$.\n",
    "Dacă după efectuarea pivotării (indiferent de varianta de pivotare aleasă) elementul pivot este nul\n",
    "$$\n",
    "a_{l l}=0 \\quad \\sim \\quad \\operatorname{abs}(a[l, l]) \\leq \\epsilon\n",
    "$$\n",
    "atunci matricea $A$ este singulară.\n",
    "\n",
    "**Observaţii:**\n",
    "1. In pasul Gauss $l$ $(5)+(6)+(7)$ calculele se pot efectua în matricea $A$ iniţială $\\left(a^{\\prime}=a\\right)$.\n",
    "\n",
    "2. Dacă pentru memorarea matricei $A$ şi a vectorului $b$ se foloseşte o matrice cu $n$ linii şi $(n+1)$ coloane, vectorul $b$ fiind memorat în coloana $(n+1)$ a matricei $A$, calculele $(6)$ sunt incluse în $(5)$ pentru $j=n+1$; se simplifică şi interschimbarea liniilor $i_{0}$ şi $l$.\n",
    "\n",
    "3. Dacă pivotul se alege folosind varianta a 3-a, cu pivotare totală, la final trebuie să avem grijă sa restabilim ordinea iniţială a componentelor vectorului soluţie (ţinând cont de coloana $j_{0}$ a pivotului de la fiecare pas)."
   ]
  },
  {
   "cell_type": "markdown",
   "id": "93bbc9f1",
   "metadata": {},
   "source": [
    "#### Exemplu pentru algoritmul de eliminare Gauss\n",
    "\n",
    "Youtube: https://www.youtube.com/watch?v=2j5Ic2V7wq4 - puteti cauta si altele pt \"Gaussian elimination\"\n",
    "\n",
    "Exemplul din tema (fara pivotare):\n",
    "$$\n",
    "A=\\left(\\begin{array}{lll}\n",
    "2 & 0 & 1 \\\\\n",
    "0 & 2 & 1 \\\\\n",
    "4 & 4 & 6\n",
    "\\end{array}\\right) x=\\left(\\begin{array}{c}\n",
    "5 \\\\\n",
    "1 \\\\\n",
    "14\n",
    "\\end{array}\\right)\n",
    "$$\n",
    "\n",
    "1. **Pasul 1:** Verificam daca $a_{11}$ este nenul. Raspunsul este da, deci $a_{11}$ este un pivot valid. Astfel putem incepe sa facem valorile $a_{21}$ si $a_{31}$ nule.\n",
    "  * $a_{21}$ este deja nul, deci vom alsa linia $2$ neschimbata\n",
    "  * $a_{31}$ nu este nul, deci incercam sa facem elementul 0 inmultind linia 3 cu valoarea $(−𝑎_{𝑖𝑙}/𝑎{𝑙𝑙})$ unde $i = 3$, asadar Linia 3 devine $Linia3-2 * Linia 1$\n",
    "  Asadar\n",
    "  $$\n",
    "A=\\left(\\begin{array}{lll}\n",
    "2 & 0 & 1 \\\\\n",
    "0 & 2 & 1 \\\\\n",
    "0 & 4 & 4\n",
    "\\end{array}\\right) x=\\left(\\begin{array}{c}\n",
    "5 \\\\\n",
    "1 \\\\\n",
    "4\n",
    "\\end{array}\\right)\n",
    "$$\n",
    "\n",
    "1. **Pasul 2:** Verificam daca $a_{22}$ este nenul. Raspunsul este da, deci $a_{22}$ este un pivot valid. Astfel putem incepe sa facem valorea $a_{23}$ nula.\n",
    "  * $a_{23}$ nu este nula, deci incercam sa facem elementul 0 inmultind linia 2 cu -4/2 si adunand la linia 3\n",
    "  Asadar\n",
    "  $$\n",
    "A=\\left(\\begin{array}{lll}\n",
    "2 & 0 & 1 \\\\\n",
    "0 & 2 & 1 \\\\\n",
    "0 & 0 & 2\n",
    "\\end{array}\\right) x=\\left(\\begin{array}{c}\n",
    "5 \\\\\n",
    "1 \\\\\n",
    "2\n",
    "\\end{array}\\right)\n",
    "$$"
   ]
  },
  {
   "cell_type": "code",
   "execution_count": 10,
   "id": "4c70572e",
   "metadata": {},
   "outputs": [
    {
     "data": {
      "text/plain": [
       "(array([[54, 26, 49, 18, 33],\n",
       "        [82, 81, 42, 91, 13],\n",
       "        [31, 82, 18, 17,  1],\n",
       "        [32, 74, 65, 39, 23],\n",
       "        [97, 67, 68, 63, 96]]),\n",
       " array([28, 83, 63, 78, 49]))"
      ]
     },
     "execution_count": 10,
     "metadata": {},
     "output_type": "execute_result"
    }
   ],
   "source": [
    "# Generate random superior triangular system\n",
    "n = 5\n",
    "A = np.random.randint(low=1, high=100, size=n*n).reshape(n, n)\n",
    "b = np.random.randint(low=1, high=100, size=n)\n",
    "A, b"
   ]
  },
  {
   "cell_type": "code",
   "execution_count": 11,
   "id": "26c8d67d",
   "metadata": {},
   "outputs": [
    {
     "ename": "NameError",
     "evalue": "name 'gauss_algorithm' is not defined",
     "output_type": "error",
     "traceback": [
      "\u001B[1;31m---------------------------------------------------------------------------\u001B[0m",
      "\u001B[1;31mNameError\u001B[0m                                 Traceback (most recent call last)",
      "Input \u001B[1;32mIn [11]\u001B[0m, in \u001B[0;36m<cell line: 1>\u001B[1;34m()\u001B[0m\n\u001B[1;32m----> 1\u001B[0m A_gauss, b_gauss, evo \u001B[38;5;241m=\u001B[39m \u001B[43mgauss_algorithm\u001B[49m(A, b, n\u001B[38;5;241m=\u001B[39mn) \u001B[38;5;66;03m# here is presented the first method\u001B[39;00m\n\u001B[0;32m      2\u001B[0m A_gauss, b_gauss\n",
      "\u001B[1;31mNameError\u001B[0m: name 'gauss_algorithm' is not defined"
     ]
    }
   ],
   "source": [
    "A_gauss, b_gauss, evo = gauss_algorithm(A, b, n=n) # here is presented the first method\n",
    "A_gauss, b_gauss"
   ]
  },
  {
   "cell_type": "code",
   "execution_count": null,
   "id": "870cb14e",
   "metadata": {},
   "outputs": [],
   "source": [
    "plot_matrix_evolution(evo, \"Gauss algorithm matrix evolution\")"
   ]
  },
  {
   "cell_type": "code",
   "execution_count": null,
   "id": "42cb55d5",
   "metadata": {},
   "outputs": [],
   "source": [
    "x_gauss = substitution_method(A_gauss, b_gauss, n=n)\n",
    "x_gauss"
   ]
  },
  {
   "cell_type": "markdown",
   "id": "8328d968",
   "metadata": {},
   "source": [
    "Fie $x_{\\text {Gauss }}$ soluţia aproximativă calculată. Să se verifice soluţia afişând următoarea normă:\n",
    "$$\n",
    "\\left\\|A^{i n i t} x_{G a u s s}-b^{i n i t}\\right\\|_{2}\n",
    "$$\n",
    "$A^{\\text {init }}$ şi $b^{\\text {init }}$ sunt datele iniţiale, nu cele modificate pe parcursul algoritmului. Am notat cu $\\|\\cdot\\|_{2}$ norma Euclidiană. Această normă ar trebui să fie mai mică decât $10^{-6}$, dacă aţi implementat corect metoda eliminării Gauss."
   ]
  },
  {
   "cell_type": "code",
   "execution_count": null,
   "id": "6084bbab",
   "metadata": {},
   "outputs": [],
   "source": [
    "get_norm(A @ x_gauss - b)"
   ]
  },
  {
   "cell_type": "markdown",
   "id": "3a46f36b",
   "metadata": {},
   "source": [
    "Folosindu-se una din bibliotecile menţionate în pagina laboratorului, să se calculeze şi să se afişeze soluţia sistemului $A x=b$ şi inversa matricei $A, x_{b i b l}$ şi $A_{b i b l}^{-1}$. Să se afişeze următoarele norme:\n",
    "$$\n",
    "\\begin{gathered}\n",
    "\\left\\|x_{\\text {Gauss }}-x_{\\text {bibl }}\\right\\|_{2} \\\\\n",
    "\\left\\|x_{\\text {Gauss }}-A_{\\text {bibl }}^{-1} b^{i n i t}\\right\\|_{2} .\n",
    "\\end{gathered}\n",
    "$$\n",
    "Aceste norme ar trebui să fie mai mici decât $10^{-6}$."
   ]
  },
  {
   "cell_type": "code",
   "execution_count": null,
   "id": "d5060157",
   "metadata": {},
   "outputs": [],
   "source": [
    "x_lib = lib_solve(A, b)\n",
    "x_lib"
   ]
  },
  {
   "cell_type": "code",
   "execution_count": null,
   "id": "f15d4f0b",
   "metadata": {},
   "outputs": [],
   "source": [
    "get_norm(x_gauss - x_lib)"
   ]
  },
  {
   "cell_type": "code",
   "execution_count": null,
   "id": "9d0fe0f9",
   "metadata": {},
   "outputs": [],
   "source": [
    "get_norm(x_gauss - lib_inv(A) @ b)"
   ]
  },
  {
   "cell_type": "markdown",
   "id": "2b36d444",
   "metadata": {},
   "source": [
    "### 3. Calculul inversei unei matrice folosind metoda lui Gauss\n",
    "\n",
    "Dacă se cunoaşte o metodă numerică de rezolvare a sistemelor liniare (în cazul de faţă se va folosi algoritmul de eliminare Gauss), coloanele matricei inverse se pot aproxima rezolvând $n$ sisteme liniare.\n",
    "Coloana $j$ a matricei $A^{-1}$ se aproximează rezolvând sistemul liniar:\n",
    "$$\n",
    "\\begin{aligned}\n",
    "&A x=e_{j}, j=1,2, \\ldots, n, \\\\\n",
    "&e_{j}=(0, \\ldots, 1,0 \\ldots, 0)^{T}, 1 \\text { este pe poziţia } j \\text { în vectorul } e_{j}\n",
    "\\end{aligned}\n",
    "$$\n",
    "Procedura de calcul a matricei $A_{\\text {Gauss }}^{-1}$ este următoarea:\n",
    "- Se calculează eliminarea Gauss a matricei extinse $\\left[A, I_{n}\\right] \\in \\mathbb{R}^{n \\times 2 n}\\left(I_{n}\\right.$ este matricea unitate de dimensiune $n$ ). Se adaptează varianta a 2-a a algoritmului de eliminare Gauss cu pivotare parţială, astfel încât să modifice toate coloanele matricei $I_{n}$ simultan, împreună cu transformarea matricei $A$ în formă superior triunghiulară. În varianta a 2 -a a algoritmului descrisă mai sus se face transformarea Gauss a matricei $[A, b] \\in \\mathbb{R}^{n \\times(n+1)}$.\n",
    "La final, matricea va avea următoarea formă $\\left[R, I_{\\text {transformat }}\\right]$ unde $R$ este forma superior triunghiulară a matricei $A$ iar $I_{\\text {transformat }}$ este matricea $I_{n}$ modificată conform algoritmului de eliminare Gauss.\n",
    "- for $j=1, \\ldots, n$\n",
    "  1. $b=$ coloana $j$ a matricei $I_{\\text {transformat }}$;\n",
    "  2. se rezolvă sistemul superior triunghiular $R x=b$, folosind metoda substituţiei inverse, se obţine soluţia $x^{*}\\left(x^{*}\\right.$ este soluţia sistemului liniar $A x=e_{j}$);\n",
    "  3. se memorează $x^{*}$ în coloana $j$ a matricei $A_{\\text {Gauss }}^{-1}$;\n",
    "\n",
    "Procedura de mai sus detaliază, în fapt, rezolvarea numerică a ecuaţiei matriceale:\n",
    "\n",
    "$$A X=I_{n}, X \\in \\mathbb{R}^{n \\times n}, I_{n}=\\text { matricea unitate. }$$"
   ]
  },
  {
   "cell_type": "code",
   "execution_count": null,
   "id": "c1ef07c1",
   "metadata": {},
   "outputs": [],
   "source": [
    "my_inv = get_inv(A)\n",
    "my_inv @ A"
   ]
  },
  {
   "cell_type": "markdown",
   "id": "404c6882",
   "metadata": {},
   "source": [
    "Folosind algoritmul de eliminare Gauss, calculaţi o aproximare a inversei acestei matrice, $A_{\\text {Gauss }}^{-1}$. Să se afişeze:\n",
    "$$\n",
    "\\left\\|A_{\\text {Gauss }}^{-1}-A_{\\text {bibl }}^{-1}\\right\\|\n",
    "$$\n",
    "Folosiţi orice normă matriceală este implementată în bibliotecă."
   ]
  },
  {
   "cell_type": "code",
   "execution_count": null,
   "id": "980af9ef",
   "metadata": {},
   "outputs": [],
   "source": [
    "get_norm(lib_inv(A) - my_inv)"
   ]
  },
  {
   "cell_type": "markdown",
   "id": "4cb4c283",
   "metadata": {},
   "source": [
    "**Bonus (25pt)**: Să se adapteze algoritmul de eliminare Gauss cu pivotare parţială pentru matrice tridiagonale de forma:\n",
    "$$\n",
    "A=\\left(\\begin{array}{cccccccc}\n",
    "a_{1} & b_{1} & 0 & 0 & \\cdots & 0 & 0 & 0 \\\\\n",
    "c_{1} & a_{2} & b_{2} & 0 & \\cdots & 0 & 0 & 0 \\\\\n",
    "0 & c_{2} & a_{3} & b_{3} & \\cdots & 0 & 0 & 0 \\\\\n",
    "\\vdots & & & & & & & \\\\\n",
    "0 & 0 & 0 & 0 & \\cdots & c_{n-2} & a_{n-1} & b_{n-1} \\\\\n",
    "0 & 0 & 0 & 0 & \\cdots & 0 & c_{n-1} & a_{n}\n",
    "\\end{array}\\right)\n",
    "$$\n",
    "Să se calculeze soluţia sistemului $A x=g$. La sfârşitul rulării algoritmului de eliminare Gauss pentru matrice tridiagonală, se ajunge la o matrice de forma:\n",
    "$$\n",
    "R=\\left(\\begin{array}{cccccccc}\n",
    "d_{1} & e_{1} & f_{1} & 0 & \\cdots & 0 & 0 & 0 \\\\\n",
    "0 & d_{2} & e_{2} & f_{2} & \\cdots & 0 & 0 & 0 \\\\\n",
    "\\vdots & & & & & & & \\\\\n",
    "0 & 0 & 0 & 0 & \\cdots & d_{n-2} & e_{n-2} & f_{n-2} \\\\\n",
    "0 & 0 & 0 & 0 & \\cdots & 0 & d_{n-1} & e_{n-1} \\\\\n",
    "0 & 0 & 0 & 0 & \\cdots & 0 & 0 & d_{n}\n",
    "\\end{array}\\right)\n",
    "$$\n",
    "La aplicarea algoritmului de eliminare Gauss, să se lucreze doar cu cei 6 vectori $a, b, c, d, e, f$."
   ]
  },
  {
   "cell_type": "code",
   "execution_count": null,
   "id": "31851bf5",
   "metadata": {},
   "outputs": [],
   "source": [
    "# To be completed by the brave ones"
   ]
  }
 ],
 "metadata": {
  "kernelspec": {
   "display_name": "Python 3 (ipykernel)",
   "language": "python",
   "name": "python3"
  },
  "language_info": {
   "codemirror_mode": {
    "name": "ipython",
    "version": 3
   },
   "file_extension": ".py",
   "mimetype": "text/x-python",
   "name": "python",
   "nbconvert_exporter": "python",
   "pygments_lexer": "ipython3",
   "version": "3.8.10"
  }
 },
 "nbformat": 4,
 "nbformat_minor": 5
}