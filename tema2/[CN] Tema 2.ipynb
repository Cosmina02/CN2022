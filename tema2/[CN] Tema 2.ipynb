{
 "cells": [
  {
   "cell_type": "markdown",
   "id": "a69c444a",
   "metadata": {},
   "source": [
    "# Tema 2\n",
    "\n",
    "Topics:\n",
    "1. Metoda substitutiei inverse\n",
    "2. Algoritmul de Elminiare Gauss"
   ]
  },
  {
   "cell_type": "code",
   "execution_count": 487,
   "id": "5c5865ad",
   "metadata": {},
   "outputs": [],
   "source": [
    "import numpy as np\n",
    "import unittest\n",
    "import random\n",
    "\n",
    "np.random.seed(10)\n",
    "\n",
    "# functions that need to be implemented\n",
    "from tema2 import substitution_method#, get_inv, gauss_algorithm\n",
    "\n",
    "# dummy functions that mirror standard methods from libraries (but you'll have to discover them)\n",
    "# from tema2 import get_norm, lib_solve, lib_inv\n",
    "\n",
    "# from tema2 import plot_matrix_evolution\n",
    "\n",
    "np.set_printoptions(suppress=True)"
   ]
  },
  {
   "cell_type": "markdown",
   "id": "b475e101",
   "metadata": {},
   "source": [
    "## 1. Metoda substitutiei inverse\n",
    "\n",
    "**TL;DR:** Metoda substituiei inverse rezolva sisteme linare in care matricea asociata sistemului este triunghiulara (inferior sau superior)."
   ]
  },
  {
   "cell_type": "markdown",
   "id": "a11e7e0e",
   "metadata": {},
   "source": [
    "* **Ce este o matrice triunghiulara superior?** O matrice triunghiulara superior este o matrice care are valori nule sub diagonala principala. "
   ]
  },
  {
   "cell_type": "code",
   "execution_count": 488,
   "id": "be9feffe",
   "metadata": {},
   "outputs": [
    {
     "data": {
      "text/plain": "array([[ 1,  2,  3,  4],\n       [ 5,  6,  7,  8],\n       [ 9, 10, 11, 12],\n       [13, 14, 15, 16]])"
     },
     "execution_count": 488,
     "metadata": {},
     "output_type": "execute_result"
    }
   ],
   "source": [
    "# generate a 4x4 matrix with elements from 1 to 16\n",
    "A = (np.arange(4*4) + 1).reshape(4, 4)\n",
    "A"
   ]
  },
  {
   "cell_type": "code",
   "execution_count": 489,
   "id": "b375703c",
   "metadata": {},
   "outputs": [
    {
     "data": {
      "text/plain": "array([[ 1,  2,  3,  4],\n       [ 0,  6,  7,  8],\n       [ 0,  0, 11, 12],\n       [ 0,  0,  0, 16]])"
     },
     "execution_count": 489,
     "metadata": {},
     "output_type": "execute_result"
    }
   ],
   "source": [
    "# generated superior triangular matrix from A\n",
    "np.triu(A)"
   ]
  },
  {
   "cell_type": "markdown",
   "id": "56049b03",
   "metadata": {},
   "source": [
    "* **Ce este o matrice triunghiulara inferior?** O matrice triunghiulara inferior este o matrice care are valori nule deasupra diagonala principala. "
   ]
  },
  {
   "cell_type": "code",
   "execution_count": 490,
   "id": "d418ab7b",
   "metadata": {},
   "outputs": [
    {
     "data": {
      "text/plain": "array([[ 1,  0,  0,  0],\n       [ 5,  6,  0,  0],\n       [ 9, 10, 11,  0],\n       [13, 14, 15, 16]])"
     },
     "execution_count": 490,
     "metadata": {},
     "output_type": "execute_result"
    }
   ],
   "source": [
    "# generated inferior triangular matrix from A\n",
    "np.tril(A)"
   ]
  },
  {
   "cell_type": "markdown",
   "id": "ccd95f78",
   "metadata": {},
   "source": [
    "### Metoda substitutiei inverse\n",
    "Fie sistemul liniar:\n",
    "$$\n",
    "A x=b\n",
    "$$\n",
    "\n",
    "unde matricea sistemului $A$ este **triunghiulară superior**. Pentru a găsi soluţia unică a sistemului, trebuie ca matricea să fie nesingulară. Determinantul matricelor triunghiulare este dat de formula:\n",
    "$$\n",
    "\\operatorname{det} A=a_{11} a_{22} \\cdots a_{n n}\n",
    "$$\n",
    "Prin urmare, pentru rezolvarea sistemului vom presupune că:\n",
    "$$\n",
    "\\operatorname{det} A \\neq 0 \\Longleftrightarrow a_{i i} \\neq 0 \\quad \\forall i=1,2, \\ldots, n\n",
    "$$\n",
    "Vom considera sistemul liniar cu matrice superior triunghiulară:\n",
    "\n",
    "\\begin{align*}\n",
    "a_{11} x_{1}+\\cdots+a_{1 i} x_{i}+\\cdots+a_{1 n-1} x_{n-1}+a_{1 n} x_{n}&=b_{1}\\\\\n",
    "\\cdots\\\\\n",
    "a_{i i} x_{i}+\\cdots+a_{i n-1} x_{n-1}+a_{i n} x_{n}&=b_{i}\\\\\n",
    "\\cdots\\\\\n",
    "a_{n-1 n-1} x_{n-1}+a_{n-1 n} x_{n}&=b_{n-1}\\\\\n",
    "a_{n n} x_{n}&=b_{n}\\\\\n",
    "\\end{align*}\n",
    "\n",
    "Necunoscutele $x_{1}, x_{2}, \\ldots, x_{n}$ se deduc pe rând, folosind ecuaţiile sistemului de la ultima către prima. Din ultima ecuaţie, deducem valoarea lui $x_{n}$ :\n",
    "$$\n",
    "x_{n}=\\frac{b_{n}}{a_{n n}}\n",
    "$$\n",
    "Folosind valoarea lui $x_{n}$ calculată mai sus, din penultima ecuaţie obţinem:\n",
    "$$\n",
    "x_{n-1}=\\frac{b_{n-1}-a_{n-1 n} x_{n}}{a_{n-1 n-1}}\n",
    "$$\n",
    "\n",
    "\n",
    "Continuăm să calculăm valori $x_{i}$ din ecuaţiile sistemului:\n",
    "$$\n",
    "x_{i}=\\frac{b_{i}-a_{i i+1} x_{i+1}-\\cdots-a_{i n} x_{n}}{a_{i i}}\n",
    "$$\n",
    "Din prima ecuaţie găsim valoarea lui $x_{1}$ :\n",
    "$$\n",
    "x_{1}=\\frac{b_{1}-a_{12} x_{2}-\\cdots-a_{1 n} x_{n}}{a_{11}}\n",
    "$$\n",
    "Procedeul descris mai sus poartă numele de metoda substituţiei inverse pentru rezolvarea sistemelor liniare cu matrice superior triunghiulară:\n",
    "$$\n",
    "x_{i}=\\frac{\\left(b_{i}-\\sum_{j=i+1}^{n} a_{i j} x_{j}\\right)}{a_{i i}} \\quad, \\quad i=n, n-1, \\ldots, 2,1\n",
    "$$"
   ]
  },
  {
   "cell_type": "markdown",
   "id": "9f43fece",
   "metadata": {},
   "source": [
    "#### Exemplu pentru metoda substitutiei inverse\n",
    "$$\n",
    "\\left(\\begin{array}{ccc}\n",
    "3 & 1 & -5 \\\\\n",
    "& -2 & 4 \\\\\n",
    "& & 2\n",
    "\\end{array}\\right)\\left(\\begin{array}{l}\n",
    "x_{1} \\\\\n",
    "x_{2} \\\\\n",
    "x_{3}\n",
    "\\end{array}\\right)=\\left(\\begin{array}{c}\n",
    "1 \\\\\n",
    "10 \\\\\n",
    "6\n",
    "\\end{array}\\right)$$\n",
    "\n",
    "#### Rezolvare:\n",
    "\n",
    "$$x_n = \\frac{b_n}{a_{nn}} \\Rightarrow x_3 = \\frac{b_3}{a_{33}} = \\frac{6}{2} = 3$$\n",
    "\n",
    "\n",
    "$$\n",
    "x_{i}=\\frac{\\left(b_{i}-\\sum_{j=i+1}^{n} a_{i j} x_{j}\\right)}{a_{i i}} \\quad, \\quad i=n, n-1, \\ldots, 2,1\n",
    "\\Rightarrow\n",
    "x_2=\\frac{10 - (4 * 3)}{-2}=1\n",
    "$$\n",
    "\n",
    "$$\n",
    "x_1=\\frac{1 - ((1 * 1) + (-5 * 3))}{3} = \\frac{1 - (-14)}{3} = \\frac{15}{3} = 5\n",
    "$$"
   ]
  },
  {
   "cell_type": "code",
   "execution_count": 491,
   "id": "a14caa38",
   "metadata": {
    "pycharm": {
     "name": "#%%\n"
    }
   },
   "outputs": [],
   "source": [
    "def substitution_method(A, b, n):\n",
    "    if A[0][0] == 0:\n",
    "        raise ValueError(\"The matrix is singular\")\n",
    "    else:\n",
    "        x = list(0 for j in range(0, n))\n",
    "        x[n - 1] = b[n - 1] / A[n - 1][n - 1]\n",
    "        for i in range(n - 2, -1, -1):\n",
    "            suma = 0\n",
    "            for j in range(i + 1, n):\n",
    "                suma = suma + A[i][j] * x[j]\n",
    "            v = b[i] - suma\n",
    "            x[i] = v / A[i][i]\n",
    "\n",
    "        return x"
   ]
  },
  {
   "cell_type": "code",
   "execution_count": 492,
   "id": "57b5773e",
   "metadata": {},
   "outputs": [
    {
     "data": {
      "text/plain": "(array([[10, 16, 65, 29, 90, 94, 30,  9, 74,  1],\n        [ 0, 37, 17, 12, 55, 89, 63, 34, 73, 79],\n        [ 0,  0, 55, 78, 70, 14, 26, 14, 93, 87],\n        [ 0,  0,  0, 13, 66, 32, 58, 37, 28, 19],\n        [ 0,  0,  0,  0, 95, 12, 29, 75, 89, 10],\n        [ 0,  0,  0,  0,  0, 12, 18, 47,  8, 76],\n        [ 0,  0,  0,  0,  0,  0,  6,  5, 72, 89],\n        [ 0,  0,  0,  0,  0,  0,  0, 16,  7, 86],\n        [ 0,  0,  0,  0,  0,  0,  0,  0, 43, 58],\n        [ 0,  0,  0,  0,  0,  0,  0,  0,  0, 24]]),\n array([ 4, 30, 17, 85, 83, 15, 52, 80, 18, 51]))"
     },
     "execution_count": 492,
     "metadata": {},
     "output_type": "execute_result"
    }
   ],
   "source": [
    "# Generate random superior triangular system\n",
    "n = 10\n",
    "A = np.random.randint(low=1, high=100, size=n*n).reshape(n, n)\n",
    "A = np.triu(A)\n",
    "b = np.random.randint(low=1, high=100, size=n)\n",
    "\n",
    "A, b"
   ]
  },
  {
   "cell_type": "code",
   "execution_count": 493,
   "id": "159eaf25",
   "metadata": {},
   "outputs": [
    {
     "data": {
      "text/plain": "[-138.82179681562053,\n -12.535229963049725,\n 40.2585788731872,\n -33.34281160750714,\n 4.585178243574051,\n -6.084060077519383,\n 10.977107558139537,\n -5.351017441860465,\n -2.447674418604651,\n 2.125]"
     },
     "execution_count": 493,
     "metadata": {},
     "output_type": "execute_result"
    }
   ],
   "source": [
    "# Apply substitution method\n",
    "x = substitution_method(A, b, n)\n",
    "x"
   ]
  },
  {
   "cell_type": "code",
   "execution_count": 494,
   "id": "993e0a78",
   "metadata": {},
   "outputs": [
    {
     "data": {
      "text/plain": "array([ 0.,  0.,  0.,  0., -0.,  0.,  0.,  0.,  0.,  0.])"
     },
     "execution_count": 494,
     "metadata": {},
     "output_type": "execute_result"
    }
   ],
   "source": [
    "# Compute norm between the matrix multiplication of A and our solution\n",
    "diff = A @ x - b\n",
    "diff"
   ]
  },
  {
   "cell_type": "code",
   "execution_count": 495,
   "id": "4e2309fc",
   "metadata": {},
   "outputs": [
    {
     "name": "stderr",
     "output_type": "stream",
     "text": [
      "C:\\Users\\cosmi\\AppData\\Local\\Temp\\ipykernel_18724\\614015635.py:12: RuntimeWarning:\n",
      "\n",
      "divide by zero encountered in double_scalars\n",
      "\n",
      "C:\\Users\\cosmi\\AppData\\Local\\Temp\\ipykernel_18724\\614015635.py:10: RuntimeWarning:\n",
      "\n",
      "invalid value encountered in double_scalars\n",
      "\n"
     ]
    }
   ],
   "source": [
    "# Test if the matrix is singular\n",
    "A[2, 2] = 0\n",
    "\n",
    "try: \n",
    "    x = substitution_method(A, b, n)\n",
    "except Exception as e: \n",
    "    print(e)"
   ]
  },
  {
   "cell_type": "markdown",
   "id": "1f6293b8",
   "metadata": {},
   "source": [
    "### 2. Algoritmul de eliminare Gauss\n",
    "\n",
    "\n",
    "Ideea de rezolvare este de a transforma succesiv sistemul folosind operaţii elementare (ce nu modifică soluţia sistemului) şi a aduce matricea $A$ la o formă superior triunghiulară . Algoritmul se desfăşoară în $(n-1)$ paşi. La un pas $l$ oarecare se transformă coloana $l$ a matricei $A$ în formă superior triunghiulară fără a modifica forma triunghiulară a primelor $(l-1)$ coloane.\n",
    "\n",
    "\n",
    "**Pas $l$ :** Presupunem că elementul de pe poziţia $(l, l)$ numit şi element pivot este nenul, $a_{l l} \\neq 0$. Pentru $i=l+1, \\ldots, n$ se înmulteste linia $l$ a matricei $A$ $\\mathrm{cu}\\left(-a_{i l} / a_{l l}\\right)$ şi se adună la linia $i$. Schimbare se face şi asupra componentei $i$ a vectorului $b$. Matricea $A$ şi vectorul $b$ se modifică astfel:\n",
    "$$\n",
    "\\begin{aligned}\n",
    "&a_{i j}^{\\prime}=a_{i j}-\\frac{a_{i l}}{a_{l l}} a_{l j} \\quad, \\quad i=\\overline{l+1, n}, j=\\overline{l+1, n}  &(5)\\\\\n",
    "&b_{i}^{\\prime}=b_{i}-\\frac{a_{i l}}{a_{l l}} b_{l} \\quad, \\quad i=\\overline{l+1, n}  &(6)\\\\\n",
    "&a_{i l}^{\\prime}=0 \\quad, \\quad i=\\overline{l+1, n}, &(7)\\\\\n",
    "&a_{i j}^{\\prime}=a_{i j} \\quad, \\quad b_{i}^{\\prime}=b_{i} \\text { pentru restul indicilor } i, j\n",
    "\\end{aligned}\n",
    "$$\n",
    "\n",
    "In formula $(5)$ factorul $f=\\frac{a_{i l}}{a_{l l}}$ se calculează în afara buclei for pentru $j$."
   ]
  },
  {
   "cell_type": "markdown",
   "id": "5b250a58",
   "metadata": {},
   "source": [
    "#### Alegerea pivotului $a_{l l} \\neq 0\\left(\\left|a_{l l}\\right|>\\epsilon\\right)$\n",
    "\n",
    "Pentru a aduce pe poziţia $(l, l)$ un element nenul avem trei posibilităti:\n",
    "1. **Varianta fără pivotare** : Se alege primul indice $i_{0} \\in\\{l, l+1, \\cdots, n\\}$ astfel ca $a_{i_{0} l} \\neq 0$. Se interschimbă liniile $i_{0}$ şi $l$ ale matricei $A$ şi componentele $i_{0}$ şi $l$ ale vectorului $b$.\n",
    "2. **Varianta cu pivotare parțială**: \n",
    "Se alege indicele $i_{0} \\in\\{l, l+1, \\cdots, n\\}$ astfel ca:\n",
    "$$\n",
    "\\left|a_{i_{0} l}\\right|=\\max \\left\\{\\left|a_{i l}\\right|, i=\\overline{l, n}\\right\\} .\n",
    "$$\n",
    "Se interschimbă liniile $i_{0}$ şi $l$ ale matricei $A$ şi componentele $i_{0}$ şi $l$ ale vectorului $b$.\n",
    "3. **Varianta cu pivotare totală** \n",
    "Se aleg indicii $i_{0}, j_{0} \\in\\{l, l+1, \\cdots, n\\}$ astfel ca:\n",
    "$$\n",
    "\\left|a_{i_{0} j_{0}}\\right|=\\max \\left\\{\\left|a_{i j}\\right|, i=\\overline{l, n}, j=\\overline{l, n}\\right\\} .\n",
    "$$\n",
    "Se interschimbă liniile $i_{0}$ şi $l$, coloanele $j_{0}$ şi $l$ ale matricei $A$ şi componentele $i_{0}$ şi $l$ ale vectorului $b$.\n",
    "Dacă după efectuarea pivotării (indiferent de varianta de pivotare aleasă) elementul pivot este nul\n",
    "$$\n",
    "a_{l l}=0 \\quad \\sim \\quad \\operatorname{abs}(a[l, l]) \\leq \\epsilon\n",
    "$$\n",
    "atunci matricea $A$ este singulară.\n",
    "\n",
    "**Observaţii:**\n",
    "1. In pasul Gauss $l$ $(5)+(6)+(7)$ calculele se pot efectua în matricea $A$ iniţială $\\left(a^{\\prime}=a\\right)$.\n",
    "\n",
    "2. Dacă pentru memorarea matricei $A$ şi a vectorului $b$ se foloseşte o matrice cu $n$ linii şi $(n+1)$ coloane, vectorul $b$ fiind memorat în coloana $(n+1)$ a matricei $A$, calculele $(6)$ sunt incluse în $(5)$ pentru $j=n+1$; se simplifică şi interschimbarea liniilor $i_{0}$ şi $l$.\n",
    "\n",
    "3. Dacă pivotul se alege folosind varianta a 3-a, cu pivotare totală, la final trebuie să avem grijă sa restabilim ordinea iniţială a componentelor vectorului soluţie (ţinând cont de coloana $j_{0}$ a pivotului de la fiecare pas)."
   ]
  },
  {
   "cell_type": "markdown",
   "id": "93bbc9f1",
   "metadata": {},
   "source": [
    "#### Exemplu pentru algoritmul de eliminare Gauss\n",
    "\n",
    "Youtube: https://www.youtube.com/watch?v=2j5Ic2V7wq4 - puteti cauta si altele pt \"Gaussian elimination\"\n",
    "\n",
    "Exemplul din tema (fara pivotare):\n",
    "$$\n",
    "A=\\left(\\begin{array}{lll}\n",
    "2 & 0 & 1 \\\\\n",
    "0 & 2 & 1 \\\\\n",
    "4 & 4 & 6\n",
    "\\end{array}\\right) x=\\left(\\begin{array}{c}\n",
    "5 \\\\\n",
    "1 \\\\\n",
    "14\n",
    "\\end{array}\\right)\n",
    "$$\n",
    "\n",
    "1. **Pasul 1:** Verificam daca $a_{11}$ este nenul. Raspunsul este da, deci $a_{11}$ este un pivot valid. Astfel putem incepe sa facem valorile $a_{21}$ si $a_{31}$ nule.\n",
    "  * $a_{21}$ este deja nul, deci vom alsa linia $2$ neschimbata\n",
    "  * $a_{31}$ nu este nul, deci incercam sa facem elementul 0 inmultind linia 3 cu valoarea $(−𝑎_{𝑖𝑙}/𝑎{𝑙𝑙})$ unde $i = 3$, asadar Linia 3 devine $Linia3-2 * Linia 1$\n",
    "  Asadar\n",
    "  $$\n",
    "A=\\left(\\begin{array}{lll}\n",
    "2 & 0 & 1 \\\\\n",
    "0 & 2 & 1 \\\\\n",
    "0 & 4 & 4\n",
    "\\end{array}\\right) x=\\left(\\begin{array}{c}\n",
    "5 \\\\\n",
    "1 \\\\\n",
    "4\n",
    "\\end{array}\\right)\n",
    "$$\n",
    "\n",
    "1. **Pasul 2:** Verificam daca $a_{22}$ este nenul. Raspunsul este da, deci $a_{22}$ este un pivot valid. Astfel putem incepe sa facem valorea $a_{23}$ nula.\n",
    "  * $a_{23}$ nu este nula, deci incercam sa facem elementul 0 inmultind linia 2 cu -4/2 si adunand la linia 3\n",
    "  Asadar\n",
    "  $$\n",
    "A=\\left(\\begin{array}{lll}\n",
    "2 & 0 & 1 \\\\\n",
    "0 & 2 & 1 \\\\\n",
    "0 & 0 & 2\n",
    "\\end{array}\\right) x=\\left(\\begin{array}{c}\n",
    "5 \\\\\n",
    "1 \\\\\n",
    "2\n",
    "\\end{array}\\right)\n",
    "$$"
   ]
  },
  {
   "cell_type": "code",
   "execution_count": 496,
   "outputs": [],
   "source": [
    "def search_pivot(matrix, column,n):\n",
    "    max = 0\n",
    "    index = 0\n",
    "    for i in range(column, n):\n",
    "        if max < abs(matrix[i][column]):\n",
    "            max = abs(matrix[i][column])\n",
    "            index = i\n",
    "    return index\n",
    "\n",
    "\n",
    "def interschimba_linii(A, b, l, index):\n",
    "    A[[l, index]] = A[[index, l]]\n",
    "    aux = b[index]\n",
    "    b[index] = b[l]\n",
    "    b[l]=aux\n",
    "    return A, b"
   ],
   "metadata": {
    "collapsed": false,
    "pycharm": {
     "name": "#%%\n"
    }
   }
  },
  {
   "cell_type": "code",
   "execution_count": 497,
   "outputs": [],
   "source": [
    "def gauss_algorithm(A, b, n):\n",
    "    l = 0\n",
    "    evo=list()\n",
    "    evo.append(np.c_[A, b])\n",
    "    index = search_pivot(A, l, n)\n",
    "    A, b = interschimba_linii(A, b, l, index)\n",
    "    b_prim = b\n",
    "    a_prim = A\n",
    "    while l < n - 1 and a_prim[l][l] != 0:\n",
    "        for i in range(l + 1, n):\n",
    "            f = a_prim[i][l] / a_prim[l][l]\n",
    "            for j in range(l + 1, n):\n",
    "                a_prim[i][j] = a_prim[i][j] - f * a_prim[l][j]\n",
    "            b_prim[i] = b_prim[i] - f * b_prim[l]\n",
    "            a_prim[i][l] = 0\n",
    "        l += 1\n",
    "        index = search_pivot(a_prim, l, n)\n",
    "        a_prim, b_prim = interschimba_linii(a_prim, b_prim, l, index)\n",
    "        evo.append(np.c_[A, b])\n",
    "\n",
    "    if A[l][l] == 0:\n",
    "        print(\"Matrice singulara\")\n",
    "    else:\n",
    "        x = substitution_method(a_prim, b_prim, n)\n",
    "        diff = a_prim @ x - b_prim\n",
    "        for o in diff:\n",
    "            if int(o) != 0:\n",
    "                print(\"Solutie gresita\")\n",
    "            else:\n",
    "                return a_prim, b_prim,evo"
   ],
   "metadata": {
    "collapsed": false,
    "pycharm": {
     "name": "#%%\n"
    }
   }
  },
  {
   "cell_type": "code",
   "execution_count": 498,
   "id": "4c70572e",
   "metadata": {},
   "outputs": [
    {
     "data": {
      "text/plain": "(array([[54, 26, 49, 18, 33, 82, 81, 42, 91, 13],\n        [31, 82, 18, 17,  1, 32, 74, 65, 39, 23],\n        [97, 67, 68, 63, 96, 28, 83, 63, 78, 49],\n        [94, 76, 87, 38, 12, 22, 34, 96, 44, 89],\n        [97, 74, 41, 44, 91, 72,  9, 86, 73, 29],\n        [31, 90, 26, 79, 82, 86, 63, 14, 42, 34],\n        [ 5, 88, 95, 29, 40, 92, 10,  8, 23, 33],\n        [ 4, 10, 53, 77, 69, 31, 71, 75, 31, 10],\n        [ 3, 66, 14, 76, 53,  6, 94, 85, 49, 63],\n        [43, 35, 41, 47, 33, 95, 87, 59, 70, 46]]),\n array([19, 51, 45,  2, 64, 78, 19, 28, 84, 38]))"
     },
     "execution_count": 498,
     "metadata": {},
     "output_type": "execute_result"
    }
   ],
   "source": [
    "# Generate random superior triangular system\n",
    "n = 10\n",
    "A = np.random.randint(low=1, high=100, size=n*n).reshape(n, n)\n",
    "b = np.random.randint(low=1, high=100, size=n)\n",
    "A, b"
   ]
  },
  {
   "cell_type": "code",
   "execution_count": 499,
   "id": "26c8d67d",
   "metadata": {},
   "outputs": [
    {
     "data": {
      "text/plain": "(array([[ 97,  67,  68,  63,  96,  28,  83,  63,  78,  49],\n        [  0,  84,  91,  25,  35,  90,   5,   4,  18,  30],\n        [  0,   0, -69,  37,  22,   4,  31,  -9,   2,  -6],\n        [  0,   0,   0,  93,  75,  23,  84,  65,  26,   0],\n        [  0,   0,   0,   0, -65,  -9, -22,  45, -26,  36],\n        [  0,   0,   0,   0,   0,  78,  45,  -1,  51, -14],\n        [  0,   0,   0,   0,   0,   0,  85,  66,  42, -28],\n        [  0,   0,   0,   0,   0,   0,   0, 124,  12, -29],\n        [  0,   0,   0,   0,   0,   0,   0,   0,  31,  45],\n        [  0,   0,   0,   0,   0,   0,   0,   0,   0,  34]]),\n array([ 45,  16,  50,  54, -23,  14,  21,  21,  10,   3]))"
     },
     "execution_count": 499,
     "metadata": {},
     "output_type": "execute_result"
    }
   ],
   "source": [
    "A_gauss, b_gauss, evo = gauss_algorithm(A, b, n=n) # here is presented the first method\n",
    "A_gauss, b_gauss"
   ]
  },
  {
   "cell_type": "code",
   "execution_count": 500,
   "outputs": [],
   "source": [
    "import plotly.graph_objs as go\n",
    "\n",
    "def plot_matrix_evolution(evo, title):\n",
    "    window_length = 1\n",
    "    fig = go.Figure()\n",
    "    for step in range(len(evo)):\n",
    "        fig.add_trace(go.Heatmap(z=evo[step][::-1],colorscale=\"RdBu\",zmid=0))\n",
    "    fig.data[0].visible = True\n",
    "    steps = []\n",
    "    for i in range(len(fig.data)):\n",
    "        step = dict(\n",
    "            method=\"update\",\n",
    "            args=[{\"visible\": [False] * len(fig.data)},\n",
    "                  {\"title\": title},\n",
    "                  ],\n",
    "            label=str(window_length * i))\n",
    "        step[\"args\"][0][\"visible\"][i] = True\n",
    "        steps.append(step)\n",
    "\n",
    "    sliders = [dict(\n",
    "        active=0,\n",
    "        pad={\"t\": 5},\n",
    "        steps=steps\n",
    "    )]\n",
    "\n",
    "    fig.update_layout(sliders=sliders)\n",
    "\n",
    "    fig.show()"
   ],
   "metadata": {
    "collapsed": false,
    "pycharm": {
     "name": "#%%\n"
    }
   }
  },
  {
   "cell_type": "code",
   "execution_count": 501,
   "id": "870cb14e",
   "metadata": {},
   "outputs": [
    {
     "data": {
      "application/vnd.plotly.v1+json": {
       "data": [
        {
         "colorscale": [
          [
           0.0,
           "rgb(103,0,31)"
          ],
          [
           0.1,
           "rgb(178,24,43)"
          ],
          [
           0.2,
           "rgb(214,96,77)"
          ],
          [
           0.3,
           "rgb(244,165,130)"
          ],
          [
           0.4,
           "rgb(253,219,199)"
          ],
          [
           0.5,
           "rgb(247,247,247)"
          ],
          [
           0.6,
           "rgb(209,229,240)"
          ],
          [
           0.7,
           "rgb(146,197,222)"
          ],
          [
           0.8,
           "rgb(67,147,195)"
          ],
          [
           0.9,
           "rgb(33,102,172)"
          ],
          [
           1.0,
           "rgb(5,48,97)"
          ]
         ],
         "z": [
          [
           43,
           35,
           41,
           47,
           33,
           95,
           87,
           59,
           70,
           46,
           38
          ],
          [
           3,
           66,
           14,
           76,
           53,
           6,
           94,
           85,
           49,
           63,
           84
          ],
          [
           4,
           10,
           53,
           77,
           69,
           31,
           71,
           75,
           31,
           10,
           28
          ],
          [
           5,
           88,
           95,
           29,
           40,
           92,
           10,
           8,
           23,
           33,
           19
          ],
          [
           31,
           90,
           26,
           79,
           82,
           86,
           63,
           14,
           42,
           34,
           78
          ],
          [
           97,
           74,
           41,
           44,
           91,
           72,
           9,
           86,
           73,
           29,
           64
          ],
          [
           94,
           76,
           87,
           38,
           12,
           22,
           34,
           96,
           44,
           89,
           2
          ],
          [
           97,
           67,
           68,
           63,
           96,
           28,
           83,
           63,
           78,
           49,
           45
          ],
          [
           31,
           82,
           18,
           17,
           1,
           32,
           74,
           65,
           39,
           23,
           51
          ],
          [
           54,
           26,
           49,
           18,
           33,
           82,
           81,
           42,
           91,
           13,
           19
          ]
         ],
         "zmid": 0,
         "type": "heatmap",
         "visible": true
        },
        {
         "colorscale": [
          [
           0.0,
           "rgb(103,0,31)"
          ],
          [
           0.1,
           "rgb(178,24,43)"
          ],
          [
           0.2,
           "rgb(214,96,77)"
          ],
          [
           0.3,
           "rgb(244,165,130)"
          ],
          [
           0.4,
           "rgb(253,219,199)"
          ],
          [
           0.5,
           "rgb(247,247,247)"
          ],
          [
           0.6,
           "rgb(209,229,240)"
          ],
          [
           0.7,
           "rgb(146,197,222)"
          ],
          [
           0.8,
           "rgb(67,147,195)"
          ],
          [
           0.9,
           "rgb(33,102,172)"
          ],
          [
           1.0,
           "rgb(5,48,97)"
          ]
         ],
         "z": [
          [
           0,
           5,
           10,
           19,
           -9,
           82,
           50,
           31,
           35,
           24,
           18
          ],
          [
           0,
           63,
           11,
           74,
           50,
           5,
           91,
           83,
           46,
           61,
           82
          ],
          [
           0,
           7,
           50,
           74,
           65,
           29,
           67,
           72,
           27,
           7,
           26
          ],
          [
           0,
           60,
           -3,
           -3,
           -29,
           23,
           47,
           44,
           14,
           7,
           36
          ],
          [
           0,
           68,
           4,
           58,
           51,
           77,
           36,
           -6,
           17,
           18,
           63
          ],
          [
           0,
           7,
           -27,
           -19,
           -5,
           44,
           -74,
           23,
           -5,
           -20,
           19
          ],
          [
           0,
           11,
           21,
           -23,
           -81,
           -5,
           -46,
           34,
           -31,
           41,
           -41
          ],
          [
           0,
           -11,
           11,
           -17,
           -20,
           66,
           34,
           6,
           47,
           -14,
           -6
          ],
          [
           0,
           84,
           91,
           25,
           35,
           90,
           5,
           4,
           18,
           30,
           16
          ],
          [
           97,
           67,
           68,
           63,
           96,
           28,
           83,
           63,
           78,
           49,
           45
          ]
         ],
         "zmid": 0,
         "type": "heatmap"
        },
        {
         "colorscale": [
          [
           0.0,
           "rgb(103,0,31)"
          ],
          [
           0.1,
           "rgb(178,24,43)"
          ],
          [
           0.2,
           "rgb(214,96,77)"
          ],
          [
           0.3,
           "rgb(244,165,130)"
          ],
          [
           0.4,
           "rgb(253,219,199)"
          ],
          [
           0.5,
           "rgb(247,247,247)"
          ],
          [
           0.6,
           "rgb(209,229,240)"
          ],
          [
           0.7,
           "rgb(146,197,222)"
          ],
          [
           0.8,
           "rgb(67,147,195)"
          ],
          [
           0.9,
           "rgb(33,102,172)"
          ],
          [
           1.0,
           "rgb(5,48,97)"
          ]
         ],
         "z": [
          [
           0,
           0,
           4,
           17,
           -11,
           76,
           49,
           30,
           33,
           22,
           17
          ],
          [
           0,
           0,
           -57,
           55,
           23,
           -62,
           87,
           80,
           32,
           38,
           70
          ],
          [
           0,
           0,
           42,
           71,
           62,
           21,
           66,
           71,
           25,
           4,
           24
          ],
          [
           0,
           0,
           -68,
           -20,
           -54,
           -41,
           43,
           41,
           1,
           -14,
           24
          ],
          [
           0,
           0,
           22,
           -13,
           -15,
           77,
           34,
           6,
           49,
           -10,
           -3
          ],
          [
           0,
           0,
           -34,
           -21,
           -7,
           36,
           -74,
           22,
           -6,
           -22,
           17
          ],
          [
           0,
           0,
           9,
           -26,
           -85,
           -16,
           -46,
           33,
           -33,
           37,
           -43
          ],
          [
           0,
           0,
           -69,
           37,
           22,
           4,
           31,
           -9,
           2,
           -6,
           50
          ],
          [
           0,
           84,
           91,
           25,
           35,
           90,
           5,
           4,
           18,
           30,
           16
          ],
          [
           97,
           67,
           68,
           63,
           96,
           28,
           83,
           63,
           78,
           49,
           45
          ]
         ],
         "zmid": 0,
         "type": "heatmap"
        },
        {
         "colorscale": [
          [
           0.0,
           "rgb(103,0,31)"
          ],
          [
           0.1,
           "rgb(178,24,43)"
          ],
          [
           0.2,
           "rgb(214,96,77)"
          ],
          [
           0.3,
           "rgb(244,165,130)"
          ],
          [
           0.4,
           "rgb(253,219,199)"
          ],
          [
           0.5,
           "rgb(247,247,247)"
          ],
          [
           0.6,
           "rgb(209,229,240)"
          ],
          [
           0.7,
           "rgb(146,197,222)"
          ],
          [
           0.8,
           "rgb(67,147,195)"
          ],
          [
           0.9,
           "rgb(33,102,172)"
          ],
          [
           1.0,
           "rgb(5,48,97)"
          ]
         ],
         "z": [
          [
           0,
           0,
           0,
           19,
           -9,
           76,
           50,
           29,
           33,
           21,
           19
          ],
          [
           0,
           0,
           0,
           24,
           4,
           -65,
           61,
           87,
           30,
           42,
           28
          ],
          [
           0,
           0,
           0,
           -21,
           -82,
           -15,
           -41,
           31,
           -32,
           36,
           -36
          ],
          [
           0,
           0,
           0,
           -56,
           -75,
           -44,
           12,
           49,
           0,
           -8,
           -25
          ],
          [
           0,
           0,
           0,
           -1,
           -7,
           78,
           43,
           3,
           49,
           -11,
           12
          ],
          [
           0,
           0,
           0,
           -39,
           -17,
           34,
           -89,
           26,
           -6,
           -19,
           -7
          ],
          [
           0,
           0,
           0,
           93,
           75,
           23,
           84,
           65,
           26,
           0,
           54
          ],
          [
           0,
           0,
           -69,
           37,
           22,
           4,
           31,
           -9,
           2,
           -6,
           50
          ],
          [
           0,
           84,
           91,
           25,
           35,
           90,
           5,
           4,
           18,
           30,
           16
          ],
          [
           97,
           67,
           68,
           63,
           96,
           28,
           83,
           63,
           78,
           49,
           45
          ]
         ],
         "zmid": 0,
         "type": "heatmap"
        },
        {
         "colorscale": [
          [
           0.0,
           "rgb(103,0,31)"
          ],
          [
           0.1,
           "rgb(178,24,43)"
          ],
          [
           0.2,
           "rgb(214,96,77)"
          ],
          [
           0.3,
           "rgb(244,165,130)"
          ],
          [
           0.4,
           "rgb(253,219,199)"
          ],
          [
           0.5,
           "rgb(247,247,247)"
          ],
          [
           0.6,
           "rgb(209,229,240)"
          ],
          [
           0.7,
           "rgb(146,197,222)"
          ],
          [
           0.8,
           "rgb(67,147,195)"
          ],
          [
           0.9,
           "rgb(33,102,172)"
          ],
          [
           1.0,
           "rgb(5,48,97)"
          ]
         ],
         "z": [
          [
           0,
           0,
           0,
           0,
           -24,
           71,
           32,
           15,
           27,
           21,
           7
          ],
          [
           0,
           0,
           0,
           0,
           -15,
           -70,
           39,
           70,
           23,
           42,
           14
          ],
          [
           0,
           0,
           0,
           0,
           14,
           43,
           -53,
           53,
           4,
           -19,
           15
          ],
          [
           0,
           0,
           0,
           0,
           -29,
           -30,
           62,
           88,
           15,
           -8,
           7
          ],
          [
           0,
           0,
           0,
           0,
           -6,
           78,
           43,
           3,
           49,
           -11,
           12
          ],
          [
           0,
           0,
           0,
           0,
           -65,
           -9,
           -22,
           45,
           -26,
           36,
           -23
          ],
          [
           0,
           0,
           0,
           93,
           75,
           23,
           84,
           65,
           26,
           0,
           54
          ],
          [
           0,
           0,
           -69,
           37,
           22,
           4,
           31,
           -9,
           2,
           -6,
           50
          ],
          [
           0,
           84,
           91,
           25,
           35,
           90,
           5,
           4,
           18,
           30,
           16
          ],
          [
           97,
           67,
           68,
           63,
           96,
           28,
           83,
           63,
           78,
           49,
           45
          ]
         ],
         "zmid": 0,
         "type": "heatmap"
        },
        {
         "colorscale": [
          [
           0.0,
           "rgb(103,0,31)"
          ],
          [
           0.1,
           "rgb(178,24,43)"
          ],
          [
           0.2,
           "rgb(214,96,77)"
          ],
          [
           0.3,
           "rgb(244,165,130)"
          ],
          [
           0.4,
           "rgb(253,219,199)"
          ],
          [
           0.5,
           "rgb(247,247,247)"
          ],
          [
           0.6,
           "rgb(209,229,240)"
          ],
          [
           0.7,
           "rgb(146,197,222)"
          ],
          [
           0.8,
           "rgb(67,147,195)"
          ],
          [
           0.9,
           "rgb(33,102,172)"
          ],
          [
           1.0,
           "rgb(5,48,97)"
          ]
         ],
         "z": [
          [
           0,
           0,
           0,
           0,
           0,
           74,
           40,
           -1,
           36,
           7,
           15
          ],
          [
           0,
           0,
           0,
           0,
           0,
           -67,
           44,
           59,
           29,
           33,
           19
          ],
          [
           0,
           0,
           0,
           0,
           0,
           41,
           -57,
           62,
           -1,
           -11,
           10
          ],
          [
           0,
           0,
           0,
           0,
           0,
           -25,
           71,
           67,
           26,
           -24,
           17
          ],
          [
           0,
           0,
           0,
           0,
           0,
           78,
           45,
           -1,
           51,
           -14,
           14
          ],
          [
           0,
           0,
           0,
           0,
           -65,
           -9,
           -22,
           45,
           -26,
           36,
           -23
          ],
          [
           0,
           0,
           0,
           93,
           75,
           23,
           84,
           65,
           26,
           0,
           54
          ],
          [
           0,
           0,
           -69,
           37,
           22,
           4,
           31,
           -9,
           2,
           -6,
           50
          ],
          [
           0,
           84,
           91,
           25,
           35,
           90,
           5,
           4,
           18,
           30,
           16
          ],
          [
           97,
           67,
           68,
           63,
           96,
           28,
           83,
           63,
           78,
           49,
           45
          ]
         ],
         "zmid": 0,
         "type": "heatmap"
        },
        {
         "colorscale": [
          [
           0.0,
           "rgb(103,0,31)"
          ],
          [
           0.1,
           "rgb(178,24,43)"
          ],
          [
           0.2,
           "rgb(214,96,77)"
          ],
          [
           0.3,
           "rgb(244,165,130)"
          ],
          [
           0.4,
           "rgb(253,219,199)"
          ],
          [
           0.5,
           "rgb(247,247,247)"
          ],
          [
           0.6,
           "rgb(209,229,240)"
          ],
          [
           0.7,
           "rgb(146,197,222)"
          ],
          [
           0.8,
           "rgb(67,147,195)"
          ],
          [
           0.9,
           "rgb(33,102,172)"
          ],
          [
           1.0,
           "rgb(5,48,97)"
          ]
         ],
         "z": [
          [
           0,
           0,
           0,
           0,
           0,
           0,
           -2,
           0,
           -12,
           20,
           1
          ],
          [
           0,
           0,
           0,
           0,
           0,
           0,
           82,
           58,
           72,
           20,
           31
          ],
          [
           0,
           0,
           0,
           0,
           0,
           0,
           -80,
           62,
           -27,
           -3,
           2
          ],
          [
           0,
           0,
           0,
           0,
           0,
           0,
           85,
           66,
           42,
           -28,
           21
          ],
          [
           0,
           0,
           0,
           0,
           0,
           78,
           45,
           -1,
           51,
           -14,
           14
          ],
          [
           0,
           0,
           0,
           0,
           -65,
           -9,
           -22,
           45,
           -26,
           36,
           -23
          ],
          [
           0,
           0,
           0,
           93,
           75,
           23,
           84,
           65,
           26,
           0,
           54
          ],
          [
           0,
           0,
           -69,
           37,
           22,
           4,
           31,
           -9,
           2,
           -6,
           50
          ],
          [
           0,
           84,
           91,
           25,
           35,
           90,
           5,
           4,
           18,
           30,
           16
          ],
          [
           97,
           67,
           68,
           63,
           96,
           28,
           83,
           63,
           78,
           49,
           45
          ]
         ],
         "zmid": 0,
         "type": "heatmap"
        },
        {
         "colorscale": [
          [
           0.0,
           "rgb(103,0,31)"
          ],
          [
           0.1,
           "rgb(178,24,43)"
          ],
          [
           0.2,
           "rgb(214,96,77)"
          ],
          [
           0.3,
           "rgb(244,165,130)"
          ],
          [
           0.4,
           "rgb(253,219,199)"
          ],
          [
           0.5,
           "rgb(247,247,247)"
          ],
          [
           0.6,
           "rgb(209,229,240)"
          ],
          [
           0.7,
           "rgb(146,197,222)"
          ],
          [
           0.8,
           "rgb(67,147,195)"
          ],
          [
           0.9,
           "rgb(33,102,172)"
          ],
          [
           1.0,
           "rgb(5,48,97)"
          ]
         ],
         "z": [
          [
           0,
           0,
           0,
           0,
           0,
           0,
           0,
           1,
           -11,
           19,
           1
          ],
          [
           0,
           0,
           0,
           0,
           0,
           0,
           0,
           -5,
           31,
           47,
           10
          ],
          [
           0,
           0,
           0,
           0,
           0,
           0,
           0,
           124,
           12,
           -29,
           21
          ],
          [
           0,
           0,
           0,
           0,
           0,
           0,
           85,
           66,
           42,
           -28,
           21
          ],
          [
           0,
           0,
           0,
           0,
           0,
           78,
           45,
           -1,
           51,
           -14,
           14
          ],
          [
           0,
           0,
           0,
           0,
           -65,
           -9,
           -22,
           45,
           -26,
           36,
           -23
          ],
          [
           0,
           0,
           0,
           93,
           75,
           23,
           84,
           65,
           26,
           0,
           54
          ],
          [
           0,
           0,
           -69,
           37,
           22,
           4,
           31,
           -9,
           2,
           -6,
           50
          ],
          [
           0,
           84,
           91,
           25,
           35,
           90,
           5,
           4,
           18,
           30,
           16
          ],
          [
           97,
           67,
           68,
           63,
           96,
           28,
           83,
           63,
           78,
           49,
           45
          ]
         ],
         "zmid": 0,
         "type": "heatmap"
        },
        {
         "colorscale": [
          [
           0.0,
           "rgb(103,0,31)"
          ],
          [
           0.1,
           "rgb(178,24,43)"
          ],
          [
           0.2,
           "rgb(214,96,77)"
          ],
          [
           0.3,
           "rgb(244,165,130)"
          ],
          [
           0.4,
           "rgb(253,219,199)"
          ],
          [
           0.5,
           "rgb(247,247,247)"
          ],
          [
           0.6,
           "rgb(209,229,240)"
          ],
          [
           0.7,
           "rgb(146,197,222)"
          ],
          [
           0.8,
           "rgb(67,147,195)"
          ],
          [
           0.9,
           "rgb(33,102,172)"
          ],
          [
           1.0,
           "rgb(5,48,97)"
          ]
         ],
         "z": [
          [
           0,
           0,
           0,
           0,
           0,
           0,
           0,
           0,
           -11,
           19,
           0
          ],
          [
           0,
           0,
           0,
           0,
           0,
           0,
           0,
           0,
           31,
           45,
           10
          ],
          [
           0,
           0,
           0,
           0,
           0,
           0,
           0,
           124,
           12,
           -29,
           21
          ],
          [
           0,
           0,
           0,
           0,
           0,
           0,
           85,
           66,
           42,
           -28,
           21
          ],
          [
           0,
           0,
           0,
           0,
           0,
           78,
           45,
           -1,
           51,
           -14,
           14
          ],
          [
           0,
           0,
           0,
           0,
           -65,
           -9,
           -22,
           45,
           -26,
           36,
           -23
          ],
          [
           0,
           0,
           0,
           93,
           75,
           23,
           84,
           65,
           26,
           0,
           54
          ],
          [
           0,
           0,
           -69,
           37,
           22,
           4,
           31,
           -9,
           2,
           -6,
           50
          ],
          [
           0,
           84,
           91,
           25,
           35,
           90,
           5,
           4,
           18,
           30,
           16
          ],
          [
           97,
           67,
           68,
           63,
           96,
           28,
           83,
           63,
           78,
           49,
           45
          ]
         ],
         "zmid": 0,
         "type": "heatmap"
        },
        {
         "colorscale": [
          [
           0.0,
           "rgb(103,0,31)"
          ],
          [
           0.1,
           "rgb(178,24,43)"
          ],
          [
           0.2,
           "rgb(214,96,77)"
          ],
          [
           0.3,
           "rgb(244,165,130)"
          ],
          [
           0.4,
           "rgb(253,219,199)"
          ],
          [
           0.5,
           "rgb(247,247,247)"
          ],
          [
           0.6,
           "rgb(209,229,240)"
          ],
          [
           0.7,
           "rgb(146,197,222)"
          ],
          [
           0.8,
           "rgb(67,147,195)"
          ],
          [
           0.9,
           "rgb(33,102,172)"
          ],
          [
           1.0,
           "rgb(5,48,97)"
          ]
         ],
         "z": [
          [
           0,
           0,
           0,
           0,
           0,
           0,
           0,
           0,
           0,
           34,
           3
          ],
          [
           0,
           0,
           0,
           0,
           0,
           0,
           0,
           0,
           31,
           45,
           10
          ],
          [
           0,
           0,
           0,
           0,
           0,
           0,
           0,
           124,
           12,
           -29,
           21
          ],
          [
           0,
           0,
           0,
           0,
           0,
           0,
           85,
           66,
           42,
           -28,
           21
          ],
          [
           0,
           0,
           0,
           0,
           0,
           78,
           45,
           -1,
           51,
           -14,
           14
          ],
          [
           0,
           0,
           0,
           0,
           -65,
           -9,
           -22,
           45,
           -26,
           36,
           -23
          ],
          [
           0,
           0,
           0,
           93,
           75,
           23,
           84,
           65,
           26,
           0,
           54
          ],
          [
           0,
           0,
           -69,
           37,
           22,
           4,
           31,
           -9,
           2,
           -6,
           50
          ],
          [
           0,
           84,
           91,
           25,
           35,
           90,
           5,
           4,
           18,
           30,
           16
          ],
          [
           97,
           67,
           68,
           63,
           96,
           28,
           83,
           63,
           78,
           49,
           45
          ]
         ],
         "zmid": 0,
         "type": "heatmap"
        }
       ],
       "layout": {
        "template": {
         "data": {
          "bar": [
           {
            "error_x": {
             "color": "#2a3f5f"
            },
            "error_y": {
             "color": "#2a3f5f"
            },
            "marker": {
             "line": {
              "color": "#E5ECF6",
              "width": 0.5
             },
             "pattern": {
              "fillmode": "overlay",
              "size": 10,
              "solidity": 0.2
             }
            },
            "type": "bar"
           }
          ],
          "barpolar": [
           {
            "marker": {
             "line": {
              "color": "#E5ECF6",
              "width": 0.5
             },
             "pattern": {
              "fillmode": "overlay",
              "size": 10,
              "solidity": 0.2
             }
            },
            "type": "barpolar"
           }
          ],
          "carpet": [
           {
            "aaxis": {
             "endlinecolor": "#2a3f5f",
             "gridcolor": "white",
             "linecolor": "white",
             "minorgridcolor": "white",
             "startlinecolor": "#2a3f5f"
            },
            "baxis": {
             "endlinecolor": "#2a3f5f",
             "gridcolor": "white",
             "linecolor": "white",
             "minorgridcolor": "white",
             "startlinecolor": "#2a3f5f"
            },
            "type": "carpet"
           }
          ],
          "choropleth": [
           {
            "colorbar": {
             "outlinewidth": 0,
             "ticks": ""
            },
            "type": "choropleth"
           }
          ],
          "contour": [
           {
            "colorbar": {
             "outlinewidth": 0,
             "ticks": ""
            },
            "colorscale": [
             [
              0.0,
              "#0d0887"
             ],
             [
              0.1111111111111111,
              "#46039f"
             ],
             [
              0.2222222222222222,
              "#7201a8"
             ],
             [
              0.3333333333333333,
              "#9c179e"
             ],
             [
              0.4444444444444444,
              "#bd3786"
             ],
             [
              0.5555555555555556,
              "#d8576b"
             ],
             [
              0.6666666666666666,
              "#ed7953"
             ],
             [
              0.7777777777777778,
              "#fb9f3a"
             ],
             [
              0.8888888888888888,
              "#fdca26"
             ],
             [
              1.0,
              "#f0f921"
             ]
            ],
            "type": "contour"
           }
          ],
          "contourcarpet": [
           {
            "colorbar": {
             "outlinewidth": 0,
             "ticks": ""
            },
            "type": "contourcarpet"
           }
          ],
          "heatmap": [
           {
            "colorbar": {
             "outlinewidth": 0,
             "ticks": ""
            },
            "colorscale": [
             [
              0.0,
              "#0d0887"
             ],
             [
              0.1111111111111111,
              "#46039f"
             ],
             [
              0.2222222222222222,
              "#7201a8"
             ],
             [
              0.3333333333333333,
              "#9c179e"
             ],
             [
              0.4444444444444444,
              "#bd3786"
             ],
             [
              0.5555555555555556,
              "#d8576b"
             ],
             [
              0.6666666666666666,
              "#ed7953"
             ],
             [
              0.7777777777777778,
              "#fb9f3a"
             ],
             [
              0.8888888888888888,
              "#fdca26"
             ],
             [
              1.0,
              "#f0f921"
             ]
            ],
            "type": "heatmap"
           }
          ],
          "heatmapgl": [
           {
            "colorbar": {
             "outlinewidth": 0,
             "ticks": ""
            },
            "colorscale": [
             [
              0.0,
              "#0d0887"
             ],
             [
              0.1111111111111111,
              "#46039f"
             ],
             [
              0.2222222222222222,
              "#7201a8"
             ],
             [
              0.3333333333333333,
              "#9c179e"
             ],
             [
              0.4444444444444444,
              "#bd3786"
             ],
             [
              0.5555555555555556,
              "#d8576b"
             ],
             [
              0.6666666666666666,
              "#ed7953"
             ],
             [
              0.7777777777777778,
              "#fb9f3a"
             ],
             [
              0.8888888888888888,
              "#fdca26"
             ],
             [
              1.0,
              "#f0f921"
             ]
            ],
            "type": "heatmapgl"
           }
          ],
          "histogram": [
           {
            "marker": {
             "pattern": {
              "fillmode": "overlay",
              "size": 10,
              "solidity": 0.2
             }
            },
            "type": "histogram"
           }
          ],
          "histogram2d": [
           {
            "colorbar": {
             "outlinewidth": 0,
             "ticks": ""
            },
            "colorscale": [
             [
              0.0,
              "#0d0887"
             ],
             [
              0.1111111111111111,
              "#46039f"
             ],
             [
              0.2222222222222222,
              "#7201a8"
             ],
             [
              0.3333333333333333,
              "#9c179e"
             ],
             [
              0.4444444444444444,
              "#bd3786"
             ],
             [
              0.5555555555555556,
              "#d8576b"
             ],
             [
              0.6666666666666666,
              "#ed7953"
             ],
             [
              0.7777777777777778,
              "#fb9f3a"
             ],
             [
              0.8888888888888888,
              "#fdca26"
             ],
             [
              1.0,
              "#f0f921"
             ]
            ],
            "type": "histogram2d"
           }
          ],
          "histogram2dcontour": [
           {
            "colorbar": {
             "outlinewidth": 0,
             "ticks": ""
            },
            "colorscale": [
             [
              0.0,
              "#0d0887"
             ],
             [
              0.1111111111111111,
              "#46039f"
             ],
             [
              0.2222222222222222,
              "#7201a8"
             ],
             [
              0.3333333333333333,
              "#9c179e"
             ],
             [
              0.4444444444444444,
              "#bd3786"
             ],
             [
              0.5555555555555556,
              "#d8576b"
             ],
             [
              0.6666666666666666,
              "#ed7953"
             ],
             [
              0.7777777777777778,
              "#fb9f3a"
             ],
             [
              0.8888888888888888,
              "#fdca26"
             ],
             [
              1.0,
              "#f0f921"
             ]
            ],
            "type": "histogram2dcontour"
           }
          ],
          "mesh3d": [
           {
            "colorbar": {
             "outlinewidth": 0,
             "ticks": ""
            },
            "type": "mesh3d"
           }
          ],
          "parcoords": [
           {
            "line": {
             "colorbar": {
              "outlinewidth": 0,
              "ticks": ""
             }
            },
            "type": "parcoords"
           }
          ],
          "pie": [
           {
            "automargin": true,
            "type": "pie"
           }
          ],
          "scatter": [
           {
            "marker": {
             "colorbar": {
              "outlinewidth": 0,
              "ticks": ""
             }
            },
            "type": "scatter"
           }
          ],
          "scatter3d": [
           {
            "line": {
             "colorbar": {
              "outlinewidth": 0,
              "ticks": ""
             }
            },
            "marker": {
             "colorbar": {
              "outlinewidth": 0,
              "ticks": ""
             }
            },
            "type": "scatter3d"
           }
          ],
          "scattercarpet": [
           {
            "marker": {
             "colorbar": {
              "outlinewidth": 0,
              "ticks": ""
             }
            },
            "type": "scattercarpet"
           }
          ],
          "scattergeo": [
           {
            "marker": {
             "colorbar": {
              "outlinewidth": 0,
              "ticks": ""
             }
            },
            "type": "scattergeo"
           }
          ],
          "scattergl": [
           {
            "marker": {
             "colorbar": {
              "outlinewidth": 0,
              "ticks": ""
             }
            },
            "type": "scattergl"
           }
          ],
          "scattermapbox": [
           {
            "marker": {
             "colorbar": {
              "outlinewidth": 0,
              "ticks": ""
             }
            },
            "type": "scattermapbox"
           }
          ],
          "scatterpolar": [
           {
            "marker": {
             "colorbar": {
              "outlinewidth": 0,
              "ticks": ""
             }
            },
            "type": "scatterpolar"
           }
          ],
          "scatterpolargl": [
           {
            "marker": {
             "colorbar": {
              "outlinewidth": 0,
              "ticks": ""
             }
            },
            "type": "scatterpolargl"
           }
          ],
          "scatterternary": [
           {
            "marker": {
             "colorbar": {
              "outlinewidth": 0,
              "ticks": ""
             }
            },
            "type": "scatterternary"
           }
          ],
          "surface": [
           {
            "colorbar": {
             "outlinewidth": 0,
             "ticks": ""
            },
            "colorscale": [
             [
              0.0,
              "#0d0887"
             ],
             [
              0.1111111111111111,
              "#46039f"
             ],
             [
              0.2222222222222222,
              "#7201a8"
             ],
             [
              0.3333333333333333,
              "#9c179e"
             ],
             [
              0.4444444444444444,
              "#bd3786"
             ],
             [
              0.5555555555555556,
              "#d8576b"
             ],
             [
              0.6666666666666666,
              "#ed7953"
             ],
             [
              0.7777777777777778,
              "#fb9f3a"
             ],
             [
              0.8888888888888888,
              "#fdca26"
             ],
             [
              1.0,
              "#f0f921"
             ]
            ],
            "type": "surface"
           }
          ],
          "table": [
           {
            "cells": {
             "fill": {
              "color": "#EBF0F8"
             },
             "line": {
              "color": "white"
             }
            },
            "header": {
             "fill": {
              "color": "#C8D4E3"
             },
             "line": {
              "color": "white"
             }
            },
            "type": "table"
           }
          ]
         },
         "layout": {
          "annotationdefaults": {
           "arrowcolor": "#2a3f5f",
           "arrowhead": 0,
           "arrowwidth": 1
          },
          "autotypenumbers": "strict",
          "coloraxis": {
           "colorbar": {
            "outlinewidth": 0,
            "ticks": ""
           }
          },
          "colorscale": {
           "diverging": [
            [
             0,
             "#8e0152"
            ],
            [
             0.1,
             "#c51b7d"
            ],
            [
             0.2,
             "#de77ae"
            ],
            [
             0.3,
             "#f1b6da"
            ],
            [
             0.4,
             "#fde0ef"
            ],
            [
             0.5,
             "#f7f7f7"
            ],
            [
             0.6,
             "#e6f5d0"
            ],
            [
             0.7,
             "#b8e186"
            ],
            [
             0.8,
             "#7fbc41"
            ],
            [
             0.9,
             "#4d9221"
            ],
            [
             1,
             "#276419"
            ]
           ],
           "sequential": [
            [
             0.0,
             "#0d0887"
            ],
            [
             0.1111111111111111,
             "#46039f"
            ],
            [
             0.2222222222222222,
             "#7201a8"
            ],
            [
             0.3333333333333333,
             "#9c179e"
            ],
            [
             0.4444444444444444,
             "#bd3786"
            ],
            [
             0.5555555555555556,
             "#d8576b"
            ],
            [
             0.6666666666666666,
             "#ed7953"
            ],
            [
             0.7777777777777778,
             "#fb9f3a"
            ],
            [
             0.8888888888888888,
             "#fdca26"
            ],
            [
             1.0,
             "#f0f921"
            ]
           ],
           "sequentialminus": [
            [
             0.0,
             "#0d0887"
            ],
            [
             0.1111111111111111,
             "#46039f"
            ],
            [
             0.2222222222222222,
             "#7201a8"
            ],
            [
             0.3333333333333333,
             "#9c179e"
            ],
            [
             0.4444444444444444,
             "#bd3786"
            ],
            [
             0.5555555555555556,
             "#d8576b"
            ],
            [
             0.6666666666666666,
             "#ed7953"
            ],
            [
             0.7777777777777778,
             "#fb9f3a"
            ],
            [
             0.8888888888888888,
             "#fdca26"
            ],
            [
             1.0,
             "#f0f921"
            ]
           ]
          },
          "colorway": [
           "#636efa",
           "#EF553B",
           "#00cc96",
           "#ab63fa",
           "#FFA15A",
           "#19d3f3",
           "#FF6692",
           "#B6E880",
           "#FF97FF",
           "#FECB52"
          ],
          "font": {
           "color": "#2a3f5f"
          },
          "geo": {
           "bgcolor": "white",
           "lakecolor": "white",
           "landcolor": "#E5ECF6",
           "showlakes": true,
           "showland": true,
           "subunitcolor": "white"
          },
          "hoverlabel": {
           "align": "left"
          },
          "hovermode": "closest",
          "mapbox": {
           "style": "light"
          },
          "paper_bgcolor": "white",
          "plot_bgcolor": "#E5ECF6",
          "polar": {
           "angularaxis": {
            "gridcolor": "white",
            "linecolor": "white",
            "ticks": ""
           },
           "bgcolor": "#E5ECF6",
           "radialaxis": {
            "gridcolor": "white",
            "linecolor": "white",
            "ticks": ""
           }
          },
          "scene": {
           "xaxis": {
            "backgroundcolor": "#E5ECF6",
            "gridcolor": "white",
            "gridwidth": 2,
            "linecolor": "white",
            "showbackground": true,
            "ticks": "",
            "zerolinecolor": "white"
           },
           "yaxis": {
            "backgroundcolor": "#E5ECF6",
            "gridcolor": "white",
            "gridwidth": 2,
            "linecolor": "white",
            "showbackground": true,
            "ticks": "",
            "zerolinecolor": "white"
           },
           "zaxis": {
            "backgroundcolor": "#E5ECF6",
            "gridcolor": "white",
            "gridwidth": 2,
            "linecolor": "white",
            "showbackground": true,
            "ticks": "",
            "zerolinecolor": "white"
           }
          },
          "shapedefaults": {
           "line": {
            "color": "#2a3f5f"
           }
          },
          "ternary": {
           "aaxis": {
            "gridcolor": "white",
            "linecolor": "white",
            "ticks": ""
           },
           "baxis": {
            "gridcolor": "white",
            "linecolor": "white",
            "ticks": ""
           },
           "bgcolor": "#E5ECF6",
           "caxis": {
            "gridcolor": "white",
            "linecolor": "white",
            "ticks": ""
           }
          },
          "title": {
           "x": 0.05
          },
          "xaxis": {
           "automargin": true,
           "gridcolor": "white",
           "linecolor": "white",
           "ticks": "",
           "title": {
            "standoff": 15
           },
           "zerolinecolor": "white",
           "zerolinewidth": 2
          },
          "yaxis": {
           "automargin": true,
           "gridcolor": "white",
           "linecolor": "white",
           "ticks": "",
           "title": {
            "standoff": 15
           },
           "zerolinecolor": "white",
           "zerolinewidth": 2
          }
         }
        },
        "sliders": [
         {
          "active": 0,
          "pad": {
           "t": 5
          },
          "steps": [
           {
            "args": [
             {
              "visible": [
               true,
               false,
               false,
               false,
               false,
               false,
               false,
               false,
               false,
               false
              ]
             },
             {
              "title": "Gauss algorithm matrix evolution"
             }
            ],
            "label": "0",
            "method": "update"
           },
           {
            "args": [
             {
              "visible": [
               false,
               true,
               false,
               false,
               false,
               false,
               false,
               false,
               false,
               false
              ]
             },
             {
              "title": "Gauss algorithm matrix evolution"
             }
            ],
            "label": "1",
            "method": "update"
           },
           {
            "args": [
             {
              "visible": [
               false,
               false,
               true,
               false,
               false,
               false,
               false,
               false,
               false,
               false
              ]
             },
             {
              "title": "Gauss algorithm matrix evolution"
             }
            ],
            "label": "2",
            "method": "update"
           },
           {
            "args": [
             {
              "visible": [
               false,
               false,
               false,
               true,
               false,
               false,
               false,
               false,
               false,
               false
              ]
             },
             {
              "title": "Gauss algorithm matrix evolution"
             }
            ],
            "label": "3",
            "method": "update"
           },
           {
            "args": [
             {
              "visible": [
               false,
               false,
               false,
               false,
               true,
               false,
               false,
               false,
               false,
               false
              ]
             },
             {
              "title": "Gauss algorithm matrix evolution"
             }
            ],
            "label": "4",
            "method": "update"
           },
           {
            "args": [
             {
              "visible": [
               false,
               false,
               false,
               false,
               false,
               true,
               false,
               false,
               false,
               false
              ]
             },
             {
              "title": "Gauss algorithm matrix evolution"
             }
            ],
            "label": "5",
            "method": "update"
           },
           {
            "args": [
             {
              "visible": [
               false,
               false,
               false,
               false,
               false,
               false,
               true,
               false,
               false,
               false
              ]
             },
             {
              "title": "Gauss algorithm matrix evolution"
             }
            ],
            "label": "6",
            "method": "update"
           },
           {
            "args": [
             {
              "visible": [
               false,
               false,
               false,
               false,
               false,
               false,
               false,
               true,
               false,
               false
              ]
             },
             {
              "title": "Gauss algorithm matrix evolution"
             }
            ],
            "label": "7",
            "method": "update"
           },
           {
            "args": [
             {
              "visible": [
               false,
               false,
               false,
               false,
               false,
               false,
               false,
               false,
               true,
               false
              ]
             },
             {
              "title": "Gauss algorithm matrix evolution"
             }
            ],
            "label": "8",
            "method": "update"
           },
           {
            "args": [
             {
              "visible": [
               false,
               false,
               false,
               false,
               false,
               false,
               false,
               false,
               false,
               true
              ]
             },
             {
              "title": "Gauss algorithm matrix evolution"
             }
            ],
            "label": "9",
            "method": "update"
           }
          ]
         }
        ]
       },
       "config": {
        "plotlyServerURL": "https://plot.ly"
       }
      },
      "text/html": "<div>                            <div id=\"4eacb860-b107-48f2-8125-e74f25c48ab8\" class=\"plotly-graph-div\" style=\"height:525px; width:100%;\"></div>            <script type=\"text/javascript\">                require([\"plotly\"], function(Plotly) {                    window.PLOTLYENV=window.PLOTLYENV || {};                                    if (document.getElementById(\"4eacb860-b107-48f2-8125-e74f25c48ab8\")) {                    Plotly.newPlot(                        \"4eacb860-b107-48f2-8125-e74f25c48ab8\",                        [{\"colorscale\":[[0.0,\"rgb(103,0,31)\"],[0.1,\"rgb(178,24,43)\"],[0.2,\"rgb(214,96,77)\"],[0.3,\"rgb(244,165,130)\"],[0.4,\"rgb(253,219,199)\"],[0.5,\"rgb(247,247,247)\"],[0.6,\"rgb(209,229,240)\"],[0.7,\"rgb(146,197,222)\"],[0.8,\"rgb(67,147,195)\"],[0.9,\"rgb(33,102,172)\"],[1.0,\"rgb(5,48,97)\"]],\"z\":[[43,35,41,47,33,95,87,59,70,46,38],[3,66,14,76,53,6,94,85,49,63,84],[4,10,53,77,69,31,71,75,31,10,28],[5,88,95,29,40,92,10,8,23,33,19],[31,90,26,79,82,86,63,14,42,34,78],[97,74,41,44,91,72,9,86,73,29,64],[94,76,87,38,12,22,34,96,44,89,2],[97,67,68,63,96,28,83,63,78,49,45],[31,82,18,17,1,32,74,65,39,23,51],[54,26,49,18,33,82,81,42,91,13,19]],\"zmid\":0,\"type\":\"heatmap\",\"visible\":true},{\"colorscale\":[[0.0,\"rgb(103,0,31)\"],[0.1,\"rgb(178,24,43)\"],[0.2,\"rgb(214,96,77)\"],[0.3,\"rgb(244,165,130)\"],[0.4,\"rgb(253,219,199)\"],[0.5,\"rgb(247,247,247)\"],[0.6,\"rgb(209,229,240)\"],[0.7,\"rgb(146,197,222)\"],[0.8,\"rgb(67,147,195)\"],[0.9,\"rgb(33,102,172)\"],[1.0,\"rgb(5,48,97)\"]],\"z\":[[0,5,10,19,-9,82,50,31,35,24,18],[0,63,11,74,50,5,91,83,46,61,82],[0,7,50,74,65,29,67,72,27,7,26],[0,60,-3,-3,-29,23,47,44,14,7,36],[0,68,4,58,51,77,36,-6,17,18,63],[0,7,-27,-19,-5,44,-74,23,-5,-20,19],[0,11,21,-23,-81,-5,-46,34,-31,41,-41],[0,-11,11,-17,-20,66,34,6,47,-14,-6],[0,84,91,25,35,90,5,4,18,30,16],[97,67,68,63,96,28,83,63,78,49,45]],\"zmid\":0,\"type\":\"heatmap\"},{\"colorscale\":[[0.0,\"rgb(103,0,31)\"],[0.1,\"rgb(178,24,43)\"],[0.2,\"rgb(214,96,77)\"],[0.3,\"rgb(244,165,130)\"],[0.4,\"rgb(253,219,199)\"],[0.5,\"rgb(247,247,247)\"],[0.6,\"rgb(209,229,240)\"],[0.7,\"rgb(146,197,222)\"],[0.8,\"rgb(67,147,195)\"],[0.9,\"rgb(33,102,172)\"],[1.0,\"rgb(5,48,97)\"]],\"z\":[[0,0,4,17,-11,76,49,30,33,22,17],[0,0,-57,55,23,-62,87,80,32,38,70],[0,0,42,71,62,21,66,71,25,4,24],[0,0,-68,-20,-54,-41,43,41,1,-14,24],[0,0,22,-13,-15,77,34,6,49,-10,-3],[0,0,-34,-21,-7,36,-74,22,-6,-22,17],[0,0,9,-26,-85,-16,-46,33,-33,37,-43],[0,0,-69,37,22,4,31,-9,2,-6,50],[0,84,91,25,35,90,5,4,18,30,16],[97,67,68,63,96,28,83,63,78,49,45]],\"zmid\":0,\"type\":\"heatmap\"},{\"colorscale\":[[0.0,\"rgb(103,0,31)\"],[0.1,\"rgb(178,24,43)\"],[0.2,\"rgb(214,96,77)\"],[0.3,\"rgb(244,165,130)\"],[0.4,\"rgb(253,219,199)\"],[0.5,\"rgb(247,247,247)\"],[0.6,\"rgb(209,229,240)\"],[0.7,\"rgb(146,197,222)\"],[0.8,\"rgb(67,147,195)\"],[0.9,\"rgb(33,102,172)\"],[1.0,\"rgb(5,48,97)\"]],\"z\":[[0,0,0,19,-9,76,50,29,33,21,19],[0,0,0,24,4,-65,61,87,30,42,28],[0,0,0,-21,-82,-15,-41,31,-32,36,-36],[0,0,0,-56,-75,-44,12,49,0,-8,-25],[0,0,0,-1,-7,78,43,3,49,-11,12],[0,0,0,-39,-17,34,-89,26,-6,-19,-7],[0,0,0,93,75,23,84,65,26,0,54],[0,0,-69,37,22,4,31,-9,2,-6,50],[0,84,91,25,35,90,5,4,18,30,16],[97,67,68,63,96,28,83,63,78,49,45]],\"zmid\":0,\"type\":\"heatmap\"},{\"colorscale\":[[0.0,\"rgb(103,0,31)\"],[0.1,\"rgb(178,24,43)\"],[0.2,\"rgb(214,96,77)\"],[0.3,\"rgb(244,165,130)\"],[0.4,\"rgb(253,219,199)\"],[0.5,\"rgb(247,247,247)\"],[0.6,\"rgb(209,229,240)\"],[0.7,\"rgb(146,197,222)\"],[0.8,\"rgb(67,147,195)\"],[0.9,\"rgb(33,102,172)\"],[1.0,\"rgb(5,48,97)\"]],\"z\":[[0,0,0,0,-24,71,32,15,27,21,7],[0,0,0,0,-15,-70,39,70,23,42,14],[0,0,0,0,14,43,-53,53,4,-19,15],[0,0,0,0,-29,-30,62,88,15,-8,7],[0,0,0,0,-6,78,43,3,49,-11,12],[0,0,0,0,-65,-9,-22,45,-26,36,-23],[0,0,0,93,75,23,84,65,26,0,54],[0,0,-69,37,22,4,31,-9,2,-6,50],[0,84,91,25,35,90,5,4,18,30,16],[97,67,68,63,96,28,83,63,78,49,45]],\"zmid\":0,\"type\":\"heatmap\"},{\"colorscale\":[[0.0,\"rgb(103,0,31)\"],[0.1,\"rgb(178,24,43)\"],[0.2,\"rgb(214,96,77)\"],[0.3,\"rgb(244,165,130)\"],[0.4,\"rgb(253,219,199)\"],[0.5,\"rgb(247,247,247)\"],[0.6,\"rgb(209,229,240)\"],[0.7,\"rgb(146,197,222)\"],[0.8,\"rgb(67,147,195)\"],[0.9,\"rgb(33,102,172)\"],[1.0,\"rgb(5,48,97)\"]],\"z\":[[0,0,0,0,0,74,40,-1,36,7,15],[0,0,0,0,0,-67,44,59,29,33,19],[0,0,0,0,0,41,-57,62,-1,-11,10],[0,0,0,0,0,-25,71,67,26,-24,17],[0,0,0,0,0,78,45,-1,51,-14,14],[0,0,0,0,-65,-9,-22,45,-26,36,-23],[0,0,0,93,75,23,84,65,26,0,54],[0,0,-69,37,22,4,31,-9,2,-6,50],[0,84,91,25,35,90,5,4,18,30,16],[97,67,68,63,96,28,83,63,78,49,45]],\"zmid\":0,\"type\":\"heatmap\"},{\"colorscale\":[[0.0,\"rgb(103,0,31)\"],[0.1,\"rgb(178,24,43)\"],[0.2,\"rgb(214,96,77)\"],[0.3,\"rgb(244,165,130)\"],[0.4,\"rgb(253,219,199)\"],[0.5,\"rgb(247,247,247)\"],[0.6,\"rgb(209,229,240)\"],[0.7,\"rgb(146,197,222)\"],[0.8,\"rgb(67,147,195)\"],[0.9,\"rgb(33,102,172)\"],[1.0,\"rgb(5,48,97)\"]],\"z\":[[0,0,0,0,0,0,-2,0,-12,20,1],[0,0,0,0,0,0,82,58,72,20,31],[0,0,0,0,0,0,-80,62,-27,-3,2],[0,0,0,0,0,0,85,66,42,-28,21],[0,0,0,0,0,78,45,-1,51,-14,14],[0,0,0,0,-65,-9,-22,45,-26,36,-23],[0,0,0,93,75,23,84,65,26,0,54],[0,0,-69,37,22,4,31,-9,2,-6,50],[0,84,91,25,35,90,5,4,18,30,16],[97,67,68,63,96,28,83,63,78,49,45]],\"zmid\":0,\"type\":\"heatmap\"},{\"colorscale\":[[0.0,\"rgb(103,0,31)\"],[0.1,\"rgb(178,24,43)\"],[0.2,\"rgb(214,96,77)\"],[0.3,\"rgb(244,165,130)\"],[0.4,\"rgb(253,219,199)\"],[0.5,\"rgb(247,247,247)\"],[0.6,\"rgb(209,229,240)\"],[0.7,\"rgb(146,197,222)\"],[0.8,\"rgb(67,147,195)\"],[0.9,\"rgb(33,102,172)\"],[1.0,\"rgb(5,48,97)\"]],\"z\":[[0,0,0,0,0,0,0,1,-11,19,1],[0,0,0,0,0,0,0,-5,31,47,10],[0,0,0,0,0,0,0,124,12,-29,21],[0,0,0,0,0,0,85,66,42,-28,21],[0,0,0,0,0,78,45,-1,51,-14,14],[0,0,0,0,-65,-9,-22,45,-26,36,-23],[0,0,0,93,75,23,84,65,26,0,54],[0,0,-69,37,22,4,31,-9,2,-6,50],[0,84,91,25,35,90,5,4,18,30,16],[97,67,68,63,96,28,83,63,78,49,45]],\"zmid\":0,\"type\":\"heatmap\"},{\"colorscale\":[[0.0,\"rgb(103,0,31)\"],[0.1,\"rgb(178,24,43)\"],[0.2,\"rgb(214,96,77)\"],[0.3,\"rgb(244,165,130)\"],[0.4,\"rgb(253,219,199)\"],[0.5,\"rgb(247,247,247)\"],[0.6,\"rgb(209,229,240)\"],[0.7,\"rgb(146,197,222)\"],[0.8,\"rgb(67,147,195)\"],[0.9,\"rgb(33,102,172)\"],[1.0,\"rgb(5,48,97)\"]],\"z\":[[0,0,0,0,0,0,0,0,-11,19,0],[0,0,0,0,0,0,0,0,31,45,10],[0,0,0,0,0,0,0,124,12,-29,21],[0,0,0,0,0,0,85,66,42,-28,21],[0,0,0,0,0,78,45,-1,51,-14,14],[0,0,0,0,-65,-9,-22,45,-26,36,-23],[0,0,0,93,75,23,84,65,26,0,54],[0,0,-69,37,22,4,31,-9,2,-6,50],[0,84,91,25,35,90,5,4,18,30,16],[97,67,68,63,96,28,83,63,78,49,45]],\"zmid\":0,\"type\":\"heatmap\"},{\"colorscale\":[[0.0,\"rgb(103,0,31)\"],[0.1,\"rgb(178,24,43)\"],[0.2,\"rgb(214,96,77)\"],[0.3,\"rgb(244,165,130)\"],[0.4,\"rgb(253,219,199)\"],[0.5,\"rgb(247,247,247)\"],[0.6,\"rgb(209,229,240)\"],[0.7,\"rgb(146,197,222)\"],[0.8,\"rgb(67,147,195)\"],[0.9,\"rgb(33,102,172)\"],[1.0,\"rgb(5,48,97)\"]],\"z\":[[0,0,0,0,0,0,0,0,0,34,3],[0,0,0,0,0,0,0,0,31,45,10],[0,0,0,0,0,0,0,124,12,-29,21],[0,0,0,0,0,0,85,66,42,-28,21],[0,0,0,0,0,78,45,-1,51,-14,14],[0,0,0,0,-65,-9,-22,45,-26,36,-23],[0,0,0,93,75,23,84,65,26,0,54],[0,0,-69,37,22,4,31,-9,2,-6,50],[0,84,91,25,35,90,5,4,18,30,16],[97,67,68,63,96,28,83,63,78,49,45]],\"zmid\":0,\"type\":\"heatmap\"}],                        {\"template\":{\"data\":{\"bar\":[{\"error_x\":{\"color\":\"#2a3f5f\"},\"error_y\":{\"color\":\"#2a3f5f\"},\"marker\":{\"line\":{\"color\":\"#E5ECF6\",\"width\":0.5},\"pattern\":{\"fillmode\":\"overlay\",\"size\":10,\"solidity\":0.2}},\"type\":\"bar\"}],\"barpolar\":[{\"marker\":{\"line\":{\"color\":\"#E5ECF6\",\"width\":0.5},\"pattern\":{\"fillmode\":\"overlay\",\"size\":10,\"solidity\":0.2}},\"type\":\"barpolar\"}],\"carpet\":[{\"aaxis\":{\"endlinecolor\":\"#2a3f5f\",\"gridcolor\":\"white\",\"linecolor\":\"white\",\"minorgridcolor\":\"white\",\"startlinecolor\":\"#2a3f5f\"},\"baxis\":{\"endlinecolor\":\"#2a3f5f\",\"gridcolor\":\"white\",\"linecolor\":\"white\",\"minorgridcolor\":\"white\",\"startlinecolor\":\"#2a3f5f\"},\"type\":\"carpet\"}],\"choropleth\":[{\"colorbar\":{\"outlinewidth\":0,\"ticks\":\"\"},\"type\":\"choropleth\"}],\"contour\":[{\"colorbar\":{\"outlinewidth\":0,\"ticks\":\"\"},\"colorscale\":[[0.0,\"#0d0887\"],[0.1111111111111111,\"#46039f\"],[0.2222222222222222,\"#7201a8\"],[0.3333333333333333,\"#9c179e\"],[0.4444444444444444,\"#bd3786\"],[0.5555555555555556,\"#d8576b\"],[0.6666666666666666,\"#ed7953\"],[0.7777777777777778,\"#fb9f3a\"],[0.8888888888888888,\"#fdca26\"],[1.0,\"#f0f921\"]],\"type\":\"contour\"}],\"contourcarpet\":[{\"colorbar\":{\"outlinewidth\":0,\"ticks\":\"\"},\"type\":\"contourcarpet\"}],\"heatmap\":[{\"colorbar\":{\"outlinewidth\":0,\"ticks\":\"\"},\"colorscale\":[[0.0,\"#0d0887\"],[0.1111111111111111,\"#46039f\"],[0.2222222222222222,\"#7201a8\"],[0.3333333333333333,\"#9c179e\"],[0.4444444444444444,\"#bd3786\"],[0.5555555555555556,\"#d8576b\"],[0.6666666666666666,\"#ed7953\"],[0.7777777777777778,\"#fb9f3a\"],[0.8888888888888888,\"#fdca26\"],[1.0,\"#f0f921\"]],\"type\":\"heatmap\"}],\"heatmapgl\":[{\"colorbar\":{\"outlinewidth\":0,\"ticks\":\"\"},\"colorscale\":[[0.0,\"#0d0887\"],[0.1111111111111111,\"#46039f\"],[0.2222222222222222,\"#7201a8\"],[0.3333333333333333,\"#9c179e\"],[0.4444444444444444,\"#bd3786\"],[0.5555555555555556,\"#d8576b\"],[0.6666666666666666,\"#ed7953\"],[0.7777777777777778,\"#fb9f3a\"],[0.8888888888888888,\"#fdca26\"],[1.0,\"#f0f921\"]],\"type\":\"heatmapgl\"}],\"histogram\":[{\"marker\":{\"pattern\":{\"fillmode\":\"overlay\",\"size\":10,\"solidity\":0.2}},\"type\":\"histogram\"}],\"histogram2d\":[{\"colorbar\":{\"outlinewidth\":0,\"ticks\":\"\"},\"colorscale\":[[0.0,\"#0d0887\"],[0.1111111111111111,\"#46039f\"],[0.2222222222222222,\"#7201a8\"],[0.3333333333333333,\"#9c179e\"],[0.4444444444444444,\"#bd3786\"],[0.5555555555555556,\"#d8576b\"],[0.6666666666666666,\"#ed7953\"],[0.7777777777777778,\"#fb9f3a\"],[0.8888888888888888,\"#fdca26\"],[1.0,\"#f0f921\"]],\"type\":\"histogram2d\"}],\"histogram2dcontour\":[{\"colorbar\":{\"outlinewidth\":0,\"ticks\":\"\"},\"colorscale\":[[0.0,\"#0d0887\"],[0.1111111111111111,\"#46039f\"],[0.2222222222222222,\"#7201a8\"],[0.3333333333333333,\"#9c179e\"],[0.4444444444444444,\"#bd3786\"],[0.5555555555555556,\"#d8576b\"],[0.6666666666666666,\"#ed7953\"],[0.7777777777777778,\"#fb9f3a\"],[0.8888888888888888,\"#fdca26\"],[1.0,\"#f0f921\"]],\"type\":\"histogram2dcontour\"}],\"mesh3d\":[{\"colorbar\":{\"outlinewidth\":0,\"ticks\":\"\"},\"type\":\"mesh3d\"}],\"parcoords\":[{\"line\":{\"colorbar\":{\"outlinewidth\":0,\"ticks\":\"\"}},\"type\":\"parcoords\"}],\"pie\":[{\"automargin\":true,\"type\":\"pie\"}],\"scatter\":[{\"marker\":{\"colorbar\":{\"outlinewidth\":0,\"ticks\":\"\"}},\"type\":\"scatter\"}],\"scatter3d\":[{\"line\":{\"colorbar\":{\"outlinewidth\":0,\"ticks\":\"\"}},\"marker\":{\"colorbar\":{\"outlinewidth\":0,\"ticks\":\"\"}},\"type\":\"scatter3d\"}],\"scattercarpet\":[{\"marker\":{\"colorbar\":{\"outlinewidth\":0,\"ticks\":\"\"}},\"type\":\"scattercarpet\"}],\"scattergeo\":[{\"marker\":{\"colorbar\":{\"outlinewidth\":0,\"ticks\":\"\"}},\"type\":\"scattergeo\"}],\"scattergl\":[{\"marker\":{\"colorbar\":{\"outlinewidth\":0,\"ticks\":\"\"}},\"type\":\"scattergl\"}],\"scattermapbox\":[{\"marker\":{\"colorbar\":{\"outlinewidth\":0,\"ticks\":\"\"}},\"type\":\"scattermapbox\"}],\"scatterpolar\":[{\"marker\":{\"colorbar\":{\"outlinewidth\":0,\"ticks\":\"\"}},\"type\":\"scatterpolar\"}],\"scatterpolargl\":[{\"marker\":{\"colorbar\":{\"outlinewidth\":0,\"ticks\":\"\"}},\"type\":\"scatterpolargl\"}],\"scatterternary\":[{\"marker\":{\"colorbar\":{\"outlinewidth\":0,\"ticks\":\"\"}},\"type\":\"scatterternary\"}],\"surface\":[{\"colorbar\":{\"outlinewidth\":0,\"ticks\":\"\"},\"colorscale\":[[0.0,\"#0d0887\"],[0.1111111111111111,\"#46039f\"],[0.2222222222222222,\"#7201a8\"],[0.3333333333333333,\"#9c179e\"],[0.4444444444444444,\"#bd3786\"],[0.5555555555555556,\"#d8576b\"],[0.6666666666666666,\"#ed7953\"],[0.7777777777777778,\"#fb9f3a\"],[0.8888888888888888,\"#fdca26\"],[1.0,\"#f0f921\"]],\"type\":\"surface\"}],\"table\":[{\"cells\":{\"fill\":{\"color\":\"#EBF0F8\"},\"line\":{\"color\":\"white\"}},\"header\":{\"fill\":{\"color\":\"#C8D4E3\"},\"line\":{\"color\":\"white\"}},\"type\":\"table\"}]},\"layout\":{\"annotationdefaults\":{\"arrowcolor\":\"#2a3f5f\",\"arrowhead\":0,\"arrowwidth\":1},\"autotypenumbers\":\"strict\",\"coloraxis\":{\"colorbar\":{\"outlinewidth\":0,\"ticks\":\"\"}},\"colorscale\":{\"diverging\":[[0,\"#8e0152\"],[0.1,\"#c51b7d\"],[0.2,\"#de77ae\"],[0.3,\"#f1b6da\"],[0.4,\"#fde0ef\"],[0.5,\"#f7f7f7\"],[0.6,\"#e6f5d0\"],[0.7,\"#b8e186\"],[0.8,\"#7fbc41\"],[0.9,\"#4d9221\"],[1,\"#276419\"]],\"sequential\":[[0.0,\"#0d0887\"],[0.1111111111111111,\"#46039f\"],[0.2222222222222222,\"#7201a8\"],[0.3333333333333333,\"#9c179e\"],[0.4444444444444444,\"#bd3786\"],[0.5555555555555556,\"#d8576b\"],[0.6666666666666666,\"#ed7953\"],[0.7777777777777778,\"#fb9f3a\"],[0.8888888888888888,\"#fdca26\"],[1.0,\"#f0f921\"]],\"sequentialminus\":[[0.0,\"#0d0887\"],[0.1111111111111111,\"#46039f\"],[0.2222222222222222,\"#7201a8\"],[0.3333333333333333,\"#9c179e\"],[0.4444444444444444,\"#bd3786\"],[0.5555555555555556,\"#d8576b\"],[0.6666666666666666,\"#ed7953\"],[0.7777777777777778,\"#fb9f3a\"],[0.8888888888888888,\"#fdca26\"],[1.0,\"#f0f921\"]]},\"colorway\":[\"#636efa\",\"#EF553B\",\"#00cc96\",\"#ab63fa\",\"#FFA15A\",\"#19d3f3\",\"#FF6692\",\"#B6E880\",\"#FF97FF\",\"#FECB52\"],\"font\":{\"color\":\"#2a3f5f\"},\"geo\":{\"bgcolor\":\"white\",\"lakecolor\":\"white\",\"landcolor\":\"#E5ECF6\",\"showlakes\":true,\"showland\":true,\"subunitcolor\":\"white\"},\"hoverlabel\":{\"align\":\"left\"},\"hovermode\":\"closest\",\"mapbox\":{\"style\":\"light\"},\"paper_bgcolor\":\"white\",\"plot_bgcolor\":\"#E5ECF6\",\"polar\":{\"angularaxis\":{\"gridcolor\":\"white\",\"linecolor\":\"white\",\"ticks\":\"\"},\"bgcolor\":\"#E5ECF6\",\"radialaxis\":{\"gridcolor\":\"white\",\"linecolor\":\"white\",\"ticks\":\"\"}},\"scene\":{\"xaxis\":{\"backgroundcolor\":\"#E5ECF6\",\"gridcolor\":\"white\",\"gridwidth\":2,\"linecolor\":\"white\",\"showbackground\":true,\"ticks\":\"\",\"zerolinecolor\":\"white\"},\"yaxis\":{\"backgroundcolor\":\"#E5ECF6\",\"gridcolor\":\"white\",\"gridwidth\":2,\"linecolor\":\"white\",\"showbackground\":true,\"ticks\":\"\",\"zerolinecolor\":\"white\"},\"zaxis\":{\"backgroundcolor\":\"#E5ECF6\",\"gridcolor\":\"white\",\"gridwidth\":2,\"linecolor\":\"white\",\"showbackground\":true,\"ticks\":\"\",\"zerolinecolor\":\"white\"}},\"shapedefaults\":{\"line\":{\"color\":\"#2a3f5f\"}},\"ternary\":{\"aaxis\":{\"gridcolor\":\"white\",\"linecolor\":\"white\",\"ticks\":\"\"},\"baxis\":{\"gridcolor\":\"white\",\"linecolor\":\"white\",\"ticks\":\"\"},\"bgcolor\":\"#E5ECF6\",\"caxis\":{\"gridcolor\":\"white\",\"linecolor\":\"white\",\"ticks\":\"\"}},\"title\":{\"x\":0.05},\"xaxis\":{\"automargin\":true,\"gridcolor\":\"white\",\"linecolor\":\"white\",\"ticks\":\"\",\"title\":{\"standoff\":15},\"zerolinecolor\":\"white\",\"zerolinewidth\":2},\"yaxis\":{\"automargin\":true,\"gridcolor\":\"white\",\"linecolor\":\"white\",\"ticks\":\"\",\"title\":{\"standoff\":15},\"zerolinecolor\":\"white\",\"zerolinewidth\":2}}},\"sliders\":[{\"active\":0,\"pad\":{\"t\":5},\"steps\":[{\"args\":[{\"visible\":[true,false,false,false,false,false,false,false,false,false]},{\"title\":\"Gauss algorithm matrix evolution\"}],\"label\":\"0\",\"method\":\"update\"},{\"args\":[{\"visible\":[false,true,false,false,false,false,false,false,false,false]},{\"title\":\"Gauss algorithm matrix evolution\"}],\"label\":\"1\",\"method\":\"update\"},{\"args\":[{\"visible\":[false,false,true,false,false,false,false,false,false,false]},{\"title\":\"Gauss algorithm matrix evolution\"}],\"label\":\"2\",\"method\":\"update\"},{\"args\":[{\"visible\":[false,false,false,true,false,false,false,false,false,false]},{\"title\":\"Gauss algorithm matrix evolution\"}],\"label\":\"3\",\"method\":\"update\"},{\"args\":[{\"visible\":[false,false,false,false,true,false,false,false,false,false]},{\"title\":\"Gauss algorithm matrix evolution\"}],\"label\":\"4\",\"method\":\"update\"},{\"args\":[{\"visible\":[false,false,false,false,false,true,false,false,false,false]},{\"title\":\"Gauss algorithm matrix evolution\"}],\"label\":\"5\",\"method\":\"update\"},{\"args\":[{\"visible\":[false,false,false,false,false,false,true,false,false,false]},{\"title\":\"Gauss algorithm matrix evolution\"}],\"label\":\"6\",\"method\":\"update\"},{\"args\":[{\"visible\":[false,false,false,false,false,false,false,true,false,false]},{\"title\":\"Gauss algorithm matrix evolution\"}],\"label\":\"7\",\"method\":\"update\"},{\"args\":[{\"visible\":[false,false,false,false,false,false,false,false,true,false]},{\"title\":\"Gauss algorithm matrix evolution\"}],\"label\":\"8\",\"method\":\"update\"},{\"args\":[{\"visible\":[false,false,false,false,false,false,false,false,false,true]},{\"title\":\"Gauss algorithm matrix evolution\"}],\"label\":\"9\",\"method\":\"update\"}]}]},                        {\"responsive\": true}                    ).then(function(){\n                            \nvar gd = document.getElementById('4eacb860-b107-48f2-8125-e74f25c48ab8');\nvar x = new MutationObserver(function (mutations, observer) {{\n        var display = window.getComputedStyle(gd).display;\n        if (!display || display === 'none') {{\n            console.log([gd, 'removed!']);\n            Plotly.purge(gd);\n            observer.disconnect();\n        }}\n}});\n\n// Listen for the removal of the full notebook cells\nvar notebookContainer = gd.closest('#notebook-container');\nif (notebookContainer) {{\n    x.observe(notebookContainer, {childList: true});\n}}\n\n// Listen for the clearing of the current output cell\nvar outputEl = gd.closest('.output');\nif (outputEl) {{\n    x.observe(outputEl, {childList: true});\n}}\n\n                        })                };                });            </script>        </div>"
     },
     "metadata": {},
     "output_type": "display_data"
    }
   ],
   "source": [
    "plot_matrix_evolution(evo, \"Gauss algorithm matrix evolution\")"
   ]
  },
  {
   "cell_type": "code",
   "execution_count": 502,
   "id": "42cb55d5",
   "metadata": {},
   "outputs": [
    {
     "data": {
      "text/plain": "[-0.2719105986809965,\n 0.5127898662943627,\n -0.5837056418925273,\n 0.013491830440477892,\n 0.4214942322984342,\n 0.043166947423659945,\n 0.04711301304509071,\n 0.1711682071371733,\n 0.19449715370018975,\n 0.08823529411764706]"
     },
     "execution_count": 502,
     "metadata": {},
     "output_type": "execute_result"
    }
   ],
   "source": [
    "x_gauss = substitution_method(A_gauss, b_gauss, n=n)\n",
    "x_gauss"
   ]
  },
  {
   "cell_type": "markdown",
   "id": "8328d968",
   "metadata": {},
   "source": [
    "Fie $x_{\\text {Gauss }}$ soluţia aproximativă calculată. Să se verifice soluţia afişând următoarea normă:\n",
    "$$\n",
    "\\left\\|A^{i n i t} x_{G a u s s}-b^{i n i t}\\right\\|_{2}\n",
    "$$\n",
    "$A^{\\text {init }}$ şi $b^{\\text {init }}$ sunt datele iniţiale, nu cele modificate pe parcursul algoritmului. Am notat cu $\\|\\cdot\\|_{2}$ norma Euclidiană. Această normă ar trebui să fie mai mică decât $10^{-6}$, dacă aţi implementat corect metoda eliminării Gauss."
   ]
  },
  {
   "cell_type": "code",
   "execution_count": 503,
   "outputs": [],
   "source": [
    "from numpy.linalg import norm, solve, inv\n",
    "def get_norm(a):\n",
    "    print(a)\n",
    "    norm_l2 = norm(a)\n",
    "    return norm_l2"
   ],
   "metadata": {
    "collapsed": false,
    "pycharm": {
     "name": "#%%\n"
    }
   }
  },
  {
   "cell_type": "code",
   "execution_count": 504,
   "id": "6084bbab",
   "metadata": {},
   "outputs": [
    {
     "name": "stdout",
     "output_type": "stream",
     "text": [
      "[0. 0. 0. 0. 0. 0. 0. 0. 0. 0.]\n"
     ]
    },
    {
     "data": {
      "text/plain": "1.475552811121985e-14"
     },
     "execution_count": 504,
     "metadata": {},
     "output_type": "execute_result"
    }
   ],
   "source": [
    "get_norm(A @ x_gauss - b)"
   ]
  },
  {
   "cell_type": "markdown",
   "id": "3a46f36b",
   "metadata": {},
   "source": [
    "Folosindu-se una din bibliotecile menţionate în pagina laboratorului, să se calculeze şi să se afişeze soluţia sistemului $A x=b$ şi inversa matricei $A, x_{b i b l}$ şi $A_{b i b l}^{-1}$. Să se afişeze următoarele norme:\n",
    "$$\n",
    "\\begin{gathered}\n",
    "\\left\\|x_{\\text {Gauss }}-x_{\\text {bibl }}\\right\\|_{2} \\\\\n",
    "\\left\\|x_{\\text {Gauss }}-A_{\\text {bibl }}^{-1} b^{i n i t}\\right\\|_{2} .\n",
    "\\end{gathered}\n",
    "$$\n",
    "Aceste norme ar trebui să fie mai mici decât $10^{-6}$."
   ]
  },
  {
   "cell_type": "code",
   "execution_count": 505,
   "outputs": [],
   "source": [
    "def lib_solve(A,b):\n",
    "    return solve(A,b)"
   ],
   "metadata": {
    "collapsed": false,
    "pycharm": {
     "name": "#%%\n"
    }
   }
  },
  {
   "cell_type": "code",
   "execution_count": 506,
   "id": "d5060157",
   "metadata": {},
   "outputs": [
    {
     "data": {
      "text/plain": "array([-0.2719106 ,  0.51278987, -0.58370564,  0.01349183,  0.42149423,\n        0.04316695,  0.04711301,  0.17116821,  0.19449715,  0.08823529])"
     },
     "execution_count": 506,
     "metadata": {},
     "output_type": "execute_result"
    }
   ],
   "source": [
    "x_lib = lib_solve(A, b)\n",
    "x_lib"
   ]
  },
  {
   "cell_type": "code",
   "execution_count": 507,
   "id": "f15d4f0b",
   "metadata": {},
   "outputs": [
    {
     "name": "stdout",
     "output_type": "stream",
     "text": [
      "[ 0.  0.  0.  0.  0.  0. -0.  0.  0.  0.]\n"
     ]
    },
    {
     "data": {
      "text/plain": "9.959186318969168e-17"
     },
     "execution_count": 507,
     "metadata": {},
     "output_type": "execute_result"
    }
   ],
   "source": [
    "get_norm(x_gauss - x_lib)"
   ]
  },
  {
   "cell_type": "code",
   "execution_count": 508,
   "outputs": [],
   "source": [
    "def lib_inv(A):\n",
    "    return inv(A)"
   ],
   "metadata": {
    "collapsed": false,
    "pycharm": {
     "name": "#%%\n"
    }
   }
  },
  {
   "cell_type": "code",
   "execution_count": 509,
   "id": "9d0fe0f9",
   "metadata": {},
   "outputs": [
    {
     "name": "stdout",
     "output_type": "stream",
     "text": [
      "[ 0.  0.  0.  0. -0.  0. -0.  0.  0.  0.]\n"
     ]
    },
    {
     "data": {
      "text/plain": "2.404767262039403e-16"
     },
     "execution_count": 509,
     "metadata": {},
     "output_type": "execute_result"
    }
   ],
   "source": [
    "get_norm(x_gauss - lib_inv(A) @ b)"
   ]
  },
  {
   "cell_type": "markdown",
   "id": "2b36d444",
   "metadata": {},
   "source": [
    "### 3. Calculul inversei unei matrice folosind metoda lui Gauss\n",
    "\n",
    "Dacă se cunoaşte o metodă numerică de rezolvare a sistemelor liniare (în cazul de faţă se va folosi algoritmul de eliminare Gauss), coloanele matricei inverse se pot aproxima rezolvând $n$ sisteme liniare.\n",
    "Coloana $j$ a matricei $A^{-1}$ se aproximează rezolvând sistemul liniar:\n",
    "$$\n",
    "\\begin{aligned}\n",
    "&A x=e_{j}, j=1,2, \\ldots, n, \\\\\n",
    "&e_{j}=(0, \\ldots, 1,0 \\ldots, 0)^{T}, 1 \\text { este pe poziţia } j \\text { în vectorul } e_{j}\n",
    "\\end{aligned}\n",
    "$$\n",
    "Procedura de calcul a matricei $A_{\\text {Gauss }}^{-1}$ este următoarea:\n",
    "- Se calculează eliminarea Gauss a matricei extinse $\\left[A, I_{n}\\right] \\in \\mathbb{R}^{n \\times 2 n}\\left(I_{n}\\right.$ este matricea unitate de dimensiune $n$ ). Se adaptează varianta a 2-a a algoritmului de eliminare Gauss cu pivotare parţială, astfel încât să modifice toate coloanele matricei $I_{n}$ simultan, împreună cu transformarea matricei $A$ în formă superior triunghiulară. În varianta a 2 -a a algoritmului descrisă mai sus se face transformarea Gauss a matricei $[A, b] \\in \\mathbb{R}^{n \\times(n+1)}$.\n",
    "La final, matricea va avea următoarea formă $\\left[R, I_{\\text {transformat }}\\right]$ unde $R$ este forma superior triunghiulară a matricei $A$ iar $I_{\\text {transformat }}$ este matricea $I_{n}$ modificată conform algoritmului de eliminare Gauss.\n",
    "- for $j=1, \\ldots, n$\n",
    "  1. $b=$ coloana $j$ a matricei $I_{\\text {transformat }}$;\n",
    "  2. se rezolvă sistemul superior triunghiular $R x=b$, folosind metoda substituţiei inverse, se obţine soluţia $x^{*}\\left(x^{*}\\right.$ este soluţia sistemului liniar $A x=e_{j}$);\n",
    "  3. se memorează $x^{*}$ în coloana $j$ a matricei $A_{\\text {Gauss }}^{-1}$;\n",
    "\n",
    "Procedura de mai sus detaliază, în fapt, rezolvarea numerică a ecuaţiei matriceale:\n",
    "\n",
    "$$A X=I_{n}, X \\in \\mathbb{R}^{n \\times n}, I_{n}=\\text { matricea unitate. }$$"
   ]
  },
  {
   "cell_type": "code",
   "execution_count": 510,
   "outputs": [],
   "source": [
    "def get_column(matrix, i):\n",
    "    return [row[i] for row in matrix]"
   ],
   "metadata": {
    "collapsed": false,
    "pycharm": {
     "name": "#%%\n"
    }
   }
  },
  {
   "cell_type": "code",
   "execution_count": 511,
   "outputs": [],
   "source": [
    "def get_inv(A):\n",
    "    n = len(A[0])\n",
    "    I = np.eye(n)\n",
    "    eps = 10 ** (-6)\n",
    "    aug_A = np.c_[A, I]\n",
    "\n",
    "    l = 0\n",
    "    pivot = search_pivot(aug_A, l, n)\n",
    "    if pivot != l:\n",
    "        aug_A[[l, pivot]] = aug_A[[pivot, l]]\n",
    "    while l < n - 1 and abs(aug_A[l][l] > eps):\n",
    "        for i in range(l + 1, n):\n",
    "            aug_A[i][l] = aug_A[i][l] / aug_A[l][l]\n",
    "            for j in range(l + 1, 2 * n):\n",
    "                aug_A[i][j] = aug_A[i][j] - aug_A[i][l] * aug_A[l][j]\n",
    "        l = l + 1\n",
    "        pivot = search_pivot(aug_A, l, n)\n",
    "        if pivot != l:\n",
    "            aug_A[[l, pivot]] = aug_A[[pivot, l]]\n",
    "\n",
    "    R = np.zeros((n, n))\n",
    "    I_t = np.zeros((n, n))\n",
    "    for i in range(0, n):\n",
    "        R[i] = aug_A[i][:n]\n",
    "    for i in range(0, n):\n",
    "        I_t[i] = aug_A[i][n:]\n",
    "\n",
    "    inversa = np.zeros((n , n))\n",
    "    for i in range(n):\n",
    "        b = get_column(I_t, i)\n",
    "        a_res, b_res,ev = gauss_algorithm(R, b, n)\n",
    "        x = substitution_method(a_res, b_res, n)\n",
    "        print(\"x= \",x)\n",
    "        for j in range(n):\n",
    "            inversa[j][i] = x[j]\n",
    "    return inversa"
   ],
   "metadata": {
    "collapsed": false,
    "pycharm": {
     "name": "#%%\n"
    }
   }
  },
  {
   "cell_type": "code",
   "execution_count": 512,
   "id": "c1ef07c1",
   "metadata": {},
   "outputs": [
    {
     "name": "stdout",
     "output_type": "stream",
     "text": [
      "x=  [0.010309278350515464, 0.0, -0.0, 0.0, -0.0, 0.0, 0.0, 0.0, 0.0, 0.0]\n",
      "x=  [-0.008222876779577809, 0.011904761904761904, -0.0, 0.0, -0.0, 0.0, 0.0, 0.0, 0.0, 0.0]\n",
      "x=  [-0.0006847950595149157, 0.01570048309178744, -0.014492753623188406, 0.0, -0.0, 0.0, 0.0, 0.0, 0.0, 0.0]\n",
      "x=  [-0.004500808595601904, -0.009446633570055731, 0.005765934237182485, 0.010752688172043012, -0.0, 0.0, 0.0, 0.0, 0.0, 0.0]\n",
      "x=  [0.0053732907443813874, 0.0008243042604893938, 0.0017477613550544832, 0.01240694789081886, -0.015384615384615385, 0.0, 0.0, 0.0, 0.0, 0.0]\n",
      "x=  [0.007769442448511615, -0.011660758888974805, -0.0007553284713711945, -0.0017390935505079428, -0.0017751479289940828, 0.01282051282051282, 0.0, 0.0, 0.0, 0.0]\n",
      "x=  [-0.007607901930894168, 0.009295850332354048, 0.0004397343225695797, -0.006494279330361654, -0.0030421162547859377, -0.006787330316742082, 0.011764705882352941, 0.0, 0.0, 0.0]\n",
      "x=  [-0.0005008930596395916, 0.0003664186267282034, -0.00494877066745139, -0.006696403580776476, 0.007188001751569114, 0.0037160025300442758, -0.0062618595825426945, 0.008064516129032258, 0.0, 0.0]\n",
      "x=  [-0.015119829787421688, 0.007136569967193246, 0.00012745712298303327, 0.015639390277696265, -0.008643696578681345, -0.013334526158177989, -0.013515333292526167, -0.003121748178980229, 0.03225806451612903, 0.0]\n",
      "x=  [0.0031059355581120715, -0.0148853304546489, -0.008746702587607852, -0.04561192709898724, 0.030624506604188098, 0.020507637679638074, 0.022235524558112407, 0.011010283405766052, -0.04269449715370019, 0.029411764705882353]\n"
     ]
    },
    {
     "data": {
      "text/plain": "array([[ 1.,  0.,  0.,  0.,  0.,  0., -0., -0.,  0., -0.],\n       [ 0.,  1., -0., -0., -0.,  0., -0.,  0., -0.,  0.],\n       [ 0.,  0.,  1.,  0.,  0.,  0.,  0., -0.,  0.,  0.],\n       [ 0.,  0.,  0.,  1.,  0.,  0.,  0.,  0., -0.,  0.],\n       [ 0.,  0.,  0.,  0.,  1.,  0.,  0.,  0.,  0., -0.],\n       [ 0.,  0.,  0.,  0.,  0.,  1., -0., -0.,  0., -0.],\n       [ 0.,  0.,  0.,  0.,  0.,  0.,  1.,  0.,  0.,  0.],\n       [ 0.,  0.,  0.,  0.,  0.,  0.,  0.,  1.,  0.,  0.],\n       [ 0.,  0.,  0.,  0.,  0.,  0.,  0.,  0.,  1.,  0.],\n       [ 0.,  0.,  0.,  0.,  0.,  0.,  0.,  0.,  0.,  1.]])"
     },
     "execution_count": 512,
     "metadata": {},
     "output_type": "execute_result"
    }
   ],
   "source": [
    "my_inv = get_inv(A)\n",
    "my_inv @ A"
   ]
  },
  {
   "cell_type": "markdown",
   "id": "404c6882",
   "metadata": {},
   "source": [
    "Folosind algoritmul de eliminare Gauss, calculaţi o aproximare a inversei acestei matrice, $A_{\\text {Gauss }}^{-1}$. Să se afişeze:\n",
    "$$\n",
    "\\left\\|A_{\\text {Gauss }}^{-1}-A_{\\text {bibl }}^{-1}\\right\\|\n",
    "$$\n",
    "Folosiţi orice normă matriceală este implementată în bibliotecă."
   ]
  },
  {
   "cell_type": "code",
   "execution_count": 513,
   "id": "980af9ef",
   "metadata": {},
   "outputs": [
    {
     "name": "stdout",
     "output_type": "stream",
     "text": [
      "[[ 0.  0. -0.  0.  0. -0.  0. -0. -0.  0.]\n",
      " [ 0.  0.  0.  0. -0.  0.  0. -0. -0.  0.]\n",
      " [ 0.  0.  0.  0.  0. -0. -0.  0.  0. -0.]\n",
      " [ 0.  0.  0.  0.  0. -0. -0. -0.  0. -0.]\n",
      " [ 0.  0.  0.  0.  0.  0.  0.  0.  0.  0.]\n",
      " [ 0.  0.  0.  0.  0.  0.  0.  0.  0.  0.]\n",
      " [ 0.  0.  0.  0.  0.  0.  0.  0.  0.  0.]\n",
      " [ 0.  0.  0.  0.  0.  0.  0.  0.  0.  0.]\n",
      " [ 0.  0.  0.  0.  0.  0.  0.  0.  0.  0.]\n",
      " [ 0.  0.  0.  0.  0.  0.  0.  0.  0.  0.]]\n"
     ]
    },
    {
     "data": {
      "text/plain": "1.961853645157958e-17"
     },
     "execution_count": 513,
     "metadata": {},
     "output_type": "execute_result"
    }
   ],
   "source": [
    "get_norm(lib_inv(A) - my_inv)"
   ]
  },
  {
   "cell_type": "markdown",
   "id": "4cb4c283",
   "metadata": {},
   "source": [
    "### Bonus (25pt)\n",
    ": Să se adapteze algoritmul de eliminare Gauss cu pivotare parţială pentru matrice tridiagonale de forma:\n",
    "$$\n",
    "A=\\left(\\begin{array}{cccccccc}\n",
    "a_{1} & b_{1} & 0 & 0 & \\cdots & 0 & 0 & 0 \\\\\n",
    "c_{1} & a_{2} & b_{2} & 0 & \\cdots & 0 & 0 & 0 \\\\\n",
    "0 & c_{2} & a_{3} & b_{3} & \\cdots & 0 & 0 & 0 \\\\\n",
    "\\vdots & & & & & & & \\\\\n",
    "0 & 0 & 0 & 0 & \\cdots & c_{n-2} & a_{n-1} & b_{n-1} \\\\\n",
    "0 & 0 & 0 & 0 & \\cdots & 0 & c_{n-1} & a_{n}\n",
    "\\end{array}\\right)\n",
    "$$\n",
    "Să se calculeze soluţia sistemului $A x=g$. La sfârşitul rulării algoritmului de eliminare Gauss pentru matrice tridiagonală, se ajunge la o matrice de forma:\n",
    "$$\n",
    "R=\\left(\\begin{array}{cccccccc}\n",
    "d_{1} & e_{1} & f_{1} & 0 & \\cdots & 0 & 0 & 0 \\\\\n",
    "0 & d_{2} & e_{2} & f_{2} & \\cdots & 0 & 0 & 0 \\\\\n",
    "\\vdots & & & & & & & \\\\\n",
    "0 & 0 & 0 & 0 & \\cdots & d_{n-2} & e_{n-2} & f_{n-2} \\\\\n",
    "0 & 0 & 0 & 0 & \\cdots & 0 & d_{n-1} & e_{n-1} \\\\\n",
    "0 & 0 & 0 & 0 & \\cdots & 0 & 0 & d_{n}\n",
    "\\end{array}\\right)\n",
    "$$\n",
    "La aplicarea algoritmului de eliminare Gauss, să se lucreze doar cu cei 6 vectori $a, b, c, d, e, f$."
   ]
  },
  {
   "cell_type": "code",
   "execution_count": 514,
   "id": "31851bf5",
   "metadata": {},
   "outputs": [],
   "source": [
    "# To be completed by the brave ones"
   ]
  }
 ],
 "metadata": {
  "kernelspec": {
   "display_name": "Python 3 (ipykernel)",
   "language": "python",
   "name": "python3"
  },
  "language_info": {
   "codemirror_mode": {
    "name": "ipython",
    "version": 3
   },
   "file_extension": ".py",
   "mimetype": "text/x-python",
   "name": "python",
   "nbconvert_exporter": "python",
   "pygments_lexer": "ipython3",
   "version": "3.10.2"
  }
 },
 "nbformat": 4,
 "nbformat_minor": 5
}